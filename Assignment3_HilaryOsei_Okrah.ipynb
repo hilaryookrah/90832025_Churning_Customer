{
  "cells": [
    {
      "cell_type": "code",
      "source": [
        "pip install keras==2.12.0"
      ],
      "metadata": {
        "id": "VYwE1OBgviUB",
        "colab": {
          "base_uri": "https://localhost:8080/"
        },
        "outputId": "4e7676e2-c33e-4b09-c8e0-e03cc464a613"
      },
      "execution_count": 136,
      "outputs": [
        {
          "output_type": "stream",
          "name": "stdout",
          "text": [
            "Requirement already satisfied: keras==2.12.0 in /usr/local/lib/python3.10/dist-packages (2.12.0)\n"
          ]
        }
      ]
    },
    {
      "cell_type": "markdown",
      "metadata": {
        "id": "wiIWCDmqleau"
      },
      "source": [
        "Import Libraries"
      ]
    },
    {
      "cell_type": "code",
      "execution_count": 137,
      "metadata": {
        "id": "T6H7cIqd4Gim"
      },
      "outputs": [],
      "source": [
        "# Import necessary libraries\n",
        "import os\n",
        "import sklearn\n",
        "import numpy as np\n",
        "import pandas as pd\n",
        "import matplotlib.pyplot as plt\n",
        "import seaborn as sns\n",
        "import pickle\n",
        "\n",
        "# Import scikit-learn modules\n",
        "from sklearn import tree, metrics\n",
        "from sklearn.model_selection import train_test_split\n",
        "from sklearn.preprocessing import StandardScaler\n",
        "from sklearn.ensemble import RandomForestClassifier\n",
        "from sklearn.metrics import accuracy_score\n",
        "from sklearn.metrics import roc_auc_score\n",
        "\n",
        "# Import Keras modules\n",
        "from keras.utils import plot_model\n",
        "from keras.models import Model\n",
        "from keras.layers import Input, Dense,Dropout\n",
        "from keras.wrappers.scikit_learn import KerasClassifier\n",
        "from sklearn.model_selection import GridSearchCV\n",
        "from sklearn.model_selection import StratifiedKFold\n",
        "from sklearn.model_selection import train_test_split, cross_val_score"
      ]
    },
    {
      "cell_type": "markdown",
      "metadata": {
        "id": "G1E1x6I4lQp7"
      },
      "source": [
        "**Mount Drive**"
      ]
    },
    {
      "cell_type": "code",
      "execution_count": 138,
      "metadata": {
        "id": "iy7-blph658v",
        "colab": {
          "base_uri": "https://localhost:8080/"
        },
        "outputId": "b589013f-0f9f-4ce7-a77c-a3f790612697"
      },
      "outputs": [
        {
          "output_type": "stream",
          "name": "stdout",
          "text": [
            "Drive already mounted at /content/drive; to attempt to forcibly remount, call drive.mount(\"/content/drive\", force_remount=True).\n"
          ]
        }
      ],
      "source": [
        "from google.colab import drive\n",
        "drive.mount('/content/drive')"
      ]
    },
    {
      "cell_type": "code",
      "execution_count": 139,
      "metadata": {
        "id": "pcfkohEB7UXP"
      },
      "outputs": [],
      "source": [
        "df = pd.read_csv('/content/drive/MyDrive/datasets_13996_18858_WA_Fn-UseC_-Telco-Customer-Churn (1).csv') #read dataset"
      ]
    },
    {
      "cell_type": "markdown",
      "metadata": {
        "id": "zK8rtZuyJ9gj"
      },
      "source": [
        "Viewing the details of DataFrame"
      ]
    },
    {
      "cell_type": "code",
      "execution_count": 140,
      "metadata": {
        "id": "NJ8BxZUS70EG",
        "colab": {
          "base_uri": "https://localhost:8080/"
        },
        "outputId": "55667b61-bb77-4629-afa9-93b77f982d6c"
      },
      "outputs": [
        {
          "output_type": "execute_result",
          "data": {
            "text/plain": [
              "No     5174\n",
              "Yes    1869\n",
              "Name: Churn, dtype: int64"
            ]
          },
          "metadata": {},
          "execution_count": 140
        }
      ],
      "source": [
        "# The value_counts() function is used to count unique values in the 'Churn' column\n",
        "df['Churn'].value_counts()"
      ]
    },
    {
      "cell_type": "code",
      "execution_count": 141,
      "metadata": {
        "id": "P0w0a45HP1HB"
      },
      "outputs": [],
      "source": [
        "#The customerID is not relevant in determining the churn hence drop it\n",
        "df = df.drop('customerID', axis=1)"
      ]
    },
    {
      "cell_type": "code",
      "execution_count": 142,
      "metadata": {
        "id": "ga6g8z8p74iY",
        "colab": {
          "base_uri": "https://localhost:8080/"
        },
        "outputId": "dd6496cf-6f4a-49c2-834d-061a9c1160a9"
      },
      "outputs": [
        {
          "output_type": "stream",
          "name": "stdout",
          "text": [
            "<class 'pandas.core.frame.DataFrame'>\n",
            "RangeIndex: 7043 entries, 0 to 7042\n",
            "Data columns (total 20 columns):\n",
            " #   Column            Non-Null Count  Dtype  \n",
            "---  ------            --------------  -----  \n",
            " 0   gender            7043 non-null   object \n",
            " 1   SeniorCitizen     7043 non-null   int64  \n",
            " 2   Partner           7043 non-null   object \n",
            " 3   Dependents        7043 non-null   object \n",
            " 4   tenure            7043 non-null   int64  \n",
            " 5   PhoneService      7043 non-null   object \n",
            " 6   MultipleLines     7043 non-null   object \n",
            " 7   InternetService   7043 non-null   object \n",
            " 8   OnlineSecurity    7043 non-null   object \n",
            " 9   OnlineBackup      7043 non-null   object \n",
            " 10  DeviceProtection  7043 non-null   object \n",
            " 11  TechSupport       7043 non-null   object \n",
            " 12  StreamingTV       7043 non-null   object \n",
            " 13  StreamingMovies   7043 non-null   object \n",
            " 14  Contract          7043 non-null   object \n",
            " 15  PaperlessBilling  7043 non-null   object \n",
            " 16  PaymentMethod     7043 non-null   object \n",
            " 17  MonthlyCharges    7043 non-null   float64\n",
            " 18  TotalCharges      7043 non-null   object \n",
            " 19  Churn             7043 non-null   object \n",
            "dtypes: float64(1), int64(2), object(17)\n",
            "memory usage: 1.1+ MB\n"
          ]
        }
      ],
      "source": [
        "# Display information about the DataFrame\n",
        "df.info()"
      ]
    },
    {
      "cell_type": "code",
      "source": [
        "#The totalcharges column has float values but has an object type\n",
        "df.TotalCharges.values"
      ],
      "metadata": {
        "colab": {
          "base_uri": "https://localhost:8080/"
        },
        "id": "uT8reLpGB8LB",
        "outputId": "0f2a8b4b-d911-4843-e370-771bf9f89fb7"
      },
      "execution_count": 143,
      "outputs": [
        {
          "output_type": "execute_result",
          "data": {
            "text/plain": [
              "array(['29.85', '1889.5', '108.15', ..., '346.45', '306.6', '6844.5'],\n",
              "      dtype=object)"
            ]
          },
          "metadata": {},
          "execution_count": 143
        }
      ]
    },
    {
      "cell_type": "code",
      "source": [
        "# Remove rows where 'TotalCharges' is not a space\n",
        "df = df[df.TotalCharges!=' ']\n"
      ],
      "metadata": {
        "id": "mkMJHrzzB_Xe"
      },
      "execution_count": 144,
      "outputs": []
    },
    {
      "cell_type": "code",
      "source": [
        "# Display the shape of the DataFrame after removing rows\n",
        "print(\"Shape of DataFrame after removing rows with 'TotalCharges' not equal to space:\", df.shape)"
      ],
      "metadata": {
        "colab": {
          "base_uri": "https://localhost:8080/"
        },
        "id": "uu42o7JCNMyR",
        "outputId": "a9f6fa6f-ca76-4f06-a8f5-c406b28bacff"
      },
      "execution_count": 145,
      "outputs": [
        {
          "output_type": "stream",
          "name": "stdout",
          "text": [
            "Shape of DataFrame after removing rows with 'TotalCharges' not equal to space: (7032, 20)\n"
          ]
        }
      ]
    },
    {
      "cell_type": "code",
      "source": [
        "#Convert it to a numeric data type\n",
        "df.TotalCharges = pd.to_numeric(df.TotalCharges)"
      ],
      "metadata": {
        "colab": {
          "base_uri": "https://localhost:8080/"
        },
        "id": "RALXyhQJCVxD",
        "outputId": "a51b28a5-4884-42d2-8a5b-ca56bab98f87"
      },
      "execution_count": 146,
      "outputs": [
        {
          "output_type": "stream",
          "name": "stderr",
          "text": [
            "<ipython-input-146-6b64ea3f119f>:2: SettingWithCopyWarning: \n",
            "A value is trying to be set on a copy of a slice from a DataFrame.\n",
            "Try using .loc[row_indexer,col_indexer] = value instead\n",
            "\n",
            "See the caveats in the documentation: https://pandas.pydata.org/pandas-docs/stable/user_guide/indexing.html#returning-a-view-versus-a-copy\n",
            "  df.TotalCharges = pd.to_numeric(df.TotalCharges)\n"
          ]
        }
      ]
    },
    {
      "cell_type": "code",
      "execution_count": 147,
      "metadata": {
        "id": "KG8QV7EpKkvD",
        "colab": {
          "base_uri": "https://localhost:8080/",
          "height": 300
        },
        "outputId": "f8e8e630-fb54-484b-e38d-261b1122e3cb"
      },
      "outputs": [
        {
          "output_type": "execute_result",
          "data": {
            "text/plain": [
              "       SeniorCitizen       tenure  MonthlyCharges  TotalCharges\n",
              "count    7032.000000  7032.000000     7032.000000   7032.000000\n",
              "mean        0.162400    32.421786       64.798208   2283.300441\n",
              "std         0.368844    24.545260       30.085974   2266.771362\n",
              "min         0.000000     1.000000       18.250000     18.800000\n",
              "25%         0.000000     9.000000       35.587500    401.450000\n",
              "50%         0.000000    29.000000       70.350000   1397.475000\n",
              "75%         0.000000    55.000000       89.862500   3794.737500\n",
              "max         1.000000    72.000000      118.750000   8684.800000"
            ],
            "text/html": [
              "\n",
              "  <div id=\"df-4174c914-fbb3-47e7-b915-cdbe856004f3\" class=\"colab-df-container\">\n",
              "    <div>\n",
              "<style scoped>\n",
              "    .dataframe tbody tr th:only-of-type {\n",
              "        vertical-align: middle;\n",
              "    }\n",
              "\n",
              "    .dataframe tbody tr th {\n",
              "        vertical-align: top;\n",
              "    }\n",
              "\n",
              "    .dataframe thead th {\n",
              "        text-align: right;\n",
              "    }\n",
              "</style>\n",
              "<table border=\"1\" class=\"dataframe\">\n",
              "  <thead>\n",
              "    <tr style=\"text-align: right;\">\n",
              "      <th></th>\n",
              "      <th>SeniorCitizen</th>\n",
              "      <th>tenure</th>\n",
              "      <th>MonthlyCharges</th>\n",
              "      <th>TotalCharges</th>\n",
              "    </tr>\n",
              "  </thead>\n",
              "  <tbody>\n",
              "    <tr>\n",
              "      <th>count</th>\n",
              "      <td>7032.000000</td>\n",
              "      <td>7032.000000</td>\n",
              "      <td>7032.000000</td>\n",
              "      <td>7032.000000</td>\n",
              "    </tr>\n",
              "    <tr>\n",
              "      <th>mean</th>\n",
              "      <td>0.162400</td>\n",
              "      <td>32.421786</td>\n",
              "      <td>64.798208</td>\n",
              "      <td>2283.300441</td>\n",
              "    </tr>\n",
              "    <tr>\n",
              "      <th>std</th>\n",
              "      <td>0.368844</td>\n",
              "      <td>24.545260</td>\n",
              "      <td>30.085974</td>\n",
              "      <td>2266.771362</td>\n",
              "    </tr>\n",
              "    <tr>\n",
              "      <th>min</th>\n",
              "      <td>0.000000</td>\n",
              "      <td>1.000000</td>\n",
              "      <td>18.250000</td>\n",
              "      <td>18.800000</td>\n",
              "    </tr>\n",
              "    <tr>\n",
              "      <th>25%</th>\n",
              "      <td>0.000000</td>\n",
              "      <td>9.000000</td>\n",
              "      <td>35.587500</td>\n",
              "      <td>401.450000</td>\n",
              "    </tr>\n",
              "    <tr>\n",
              "      <th>50%</th>\n",
              "      <td>0.000000</td>\n",
              "      <td>29.000000</td>\n",
              "      <td>70.350000</td>\n",
              "      <td>1397.475000</td>\n",
              "    </tr>\n",
              "    <tr>\n",
              "      <th>75%</th>\n",
              "      <td>0.000000</td>\n",
              "      <td>55.000000</td>\n",
              "      <td>89.862500</td>\n",
              "      <td>3794.737500</td>\n",
              "    </tr>\n",
              "    <tr>\n",
              "      <th>max</th>\n",
              "      <td>1.000000</td>\n",
              "      <td>72.000000</td>\n",
              "      <td>118.750000</td>\n",
              "      <td>8684.800000</td>\n",
              "    </tr>\n",
              "  </tbody>\n",
              "</table>\n",
              "</div>\n",
              "    <div class=\"colab-df-buttons\">\n",
              "\n",
              "  <div class=\"colab-df-container\">\n",
              "    <button class=\"colab-df-convert\" onclick=\"convertToInteractive('df-4174c914-fbb3-47e7-b915-cdbe856004f3')\"\n",
              "            title=\"Convert this dataframe to an interactive table.\"\n",
              "            style=\"display:none;\">\n",
              "\n",
              "  <svg xmlns=\"http://www.w3.org/2000/svg\" height=\"24px\" viewBox=\"0 -960 960 960\">\n",
              "    <path d=\"M120-120v-720h720v720H120Zm60-500h600v-160H180v160Zm220 220h160v-160H400v160Zm0 220h160v-160H400v160ZM180-400h160v-160H180v160Zm440 0h160v-160H620v160ZM180-180h160v-160H180v160Zm440 0h160v-160H620v160Z\"/>\n",
              "  </svg>\n",
              "    </button>\n",
              "\n",
              "  <style>\n",
              "    .colab-df-container {\n",
              "      display:flex;\n",
              "      gap: 12px;\n",
              "    }\n",
              "\n",
              "    .colab-df-convert {\n",
              "      background-color: #E8F0FE;\n",
              "      border: none;\n",
              "      border-radius: 50%;\n",
              "      cursor: pointer;\n",
              "      display: none;\n",
              "      fill: #1967D2;\n",
              "      height: 32px;\n",
              "      padding: 0 0 0 0;\n",
              "      width: 32px;\n",
              "    }\n",
              "\n",
              "    .colab-df-convert:hover {\n",
              "      background-color: #E2EBFA;\n",
              "      box-shadow: 0px 1px 2px rgba(60, 64, 67, 0.3), 0px 1px 3px 1px rgba(60, 64, 67, 0.15);\n",
              "      fill: #174EA6;\n",
              "    }\n",
              "\n",
              "    .colab-df-buttons div {\n",
              "      margin-bottom: 4px;\n",
              "    }\n",
              "\n",
              "    [theme=dark] .colab-df-convert {\n",
              "      background-color: #3B4455;\n",
              "      fill: #D2E3FC;\n",
              "    }\n",
              "\n",
              "    [theme=dark] .colab-df-convert:hover {\n",
              "      background-color: #434B5C;\n",
              "      box-shadow: 0px 1px 3px 1px rgba(0, 0, 0, 0.15);\n",
              "      filter: drop-shadow(0px 1px 2px rgba(0, 0, 0, 0.3));\n",
              "      fill: #FFFFFF;\n",
              "    }\n",
              "  </style>\n",
              "\n",
              "    <script>\n",
              "      const buttonEl =\n",
              "        document.querySelector('#df-4174c914-fbb3-47e7-b915-cdbe856004f3 button.colab-df-convert');\n",
              "      buttonEl.style.display =\n",
              "        google.colab.kernel.accessAllowed ? 'block' : 'none';\n",
              "\n",
              "      async function convertToInteractive(key) {\n",
              "        const element = document.querySelector('#df-4174c914-fbb3-47e7-b915-cdbe856004f3');\n",
              "        const dataTable =\n",
              "          await google.colab.kernel.invokeFunction('convertToInteractive',\n",
              "                                                    [key], {});\n",
              "        if (!dataTable) return;\n",
              "\n",
              "        const docLinkHtml = 'Like what you see? Visit the ' +\n",
              "          '<a target=\"_blank\" href=https://colab.research.google.com/notebooks/data_table.ipynb>data table notebook</a>'\n",
              "          + ' to learn more about interactive tables.';\n",
              "        element.innerHTML = '';\n",
              "        dataTable['output_type'] = 'display_data';\n",
              "        await google.colab.output.renderOutput(dataTable, element);\n",
              "        const docLink = document.createElement('div');\n",
              "        docLink.innerHTML = docLinkHtml;\n",
              "        element.appendChild(docLink);\n",
              "      }\n",
              "    </script>\n",
              "  </div>\n",
              "\n",
              "\n",
              "<div id=\"df-67dfd311-1999-492d-81fe-24656d7d2950\">\n",
              "  <button class=\"colab-df-quickchart\" onclick=\"quickchart('df-67dfd311-1999-492d-81fe-24656d7d2950')\"\n",
              "            title=\"Suggest charts\"\n",
              "            style=\"display:none;\">\n",
              "\n",
              "<svg xmlns=\"http://www.w3.org/2000/svg\" height=\"24px\"viewBox=\"0 0 24 24\"\n",
              "     width=\"24px\">\n",
              "    <g>\n",
              "        <path d=\"M19 3H5c-1.1 0-2 .9-2 2v14c0 1.1.9 2 2 2h14c1.1 0 2-.9 2-2V5c0-1.1-.9-2-2-2zM9 17H7v-7h2v7zm4 0h-2V7h2v10zm4 0h-2v-4h2v4z\"/>\n",
              "    </g>\n",
              "</svg>\n",
              "  </button>\n",
              "\n",
              "<style>\n",
              "  .colab-df-quickchart {\n",
              "      --bg-color: #E8F0FE;\n",
              "      --fill-color: #1967D2;\n",
              "      --hover-bg-color: #E2EBFA;\n",
              "      --hover-fill-color: #174EA6;\n",
              "      --disabled-fill-color: #AAA;\n",
              "      --disabled-bg-color: #DDD;\n",
              "  }\n",
              "\n",
              "  [theme=dark] .colab-df-quickchart {\n",
              "      --bg-color: #3B4455;\n",
              "      --fill-color: #D2E3FC;\n",
              "      --hover-bg-color: #434B5C;\n",
              "      --hover-fill-color: #FFFFFF;\n",
              "      --disabled-bg-color: #3B4455;\n",
              "      --disabled-fill-color: #666;\n",
              "  }\n",
              "\n",
              "  .colab-df-quickchart {\n",
              "    background-color: var(--bg-color);\n",
              "    border: none;\n",
              "    border-radius: 50%;\n",
              "    cursor: pointer;\n",
              "    display: none;\n",
              "    fill: var(--fill-color);\n",
              "    height: 32px;\n",
              "    padding: 0;\n",
              "    width: 32px;\n",
              "  }\n",
              "\n",
              "  .colab-df-quickchart:hover {\n",
              "    background-color: var(--hover-bg-color);\n",
              "    box-shadow: 0 1px 2px rgba(60, 64, 67, 0.3), 0 1px 3px 1px rgba(60, 64, 67, 0.15);\n",
              "    fill: var(--button-hover-fill-color);\n",
              "  }\n",
              "\n",
              "  .colab-df-quickchart-complete:disabled,\n",
              "  .colab-df-quickchart-complete:disabled:hover {\n",
              "    background-color: var(--disabled-bg-color);\n",
              "    fill: var(--disabled-fill-color);\n",
              "    box-shadow: none;\n",
              "  }\n",
              "\n",
              "  .colab-df-spinner {\n",
              "    border: 2px solid var(--fill-color);\n",
              "    border-color: transparent;\n",
              "    border-bottom-color: var(--fill-color);\n",
              "    animation:\n",
              "      spin 1s steps(1) infinite;\n",
              "  }\n",
              "\n",
              "  @keyframes spin {\n",
              "    0% {\n",
              "      border-color: transparent;\n",
              "      border-bottom-color: var(--fill-color);\n",
              "      border-left-color: var(--fill-color);\n",
              "    }\n",
              "    20% {\n",
              "      border-color: transparent;\n",
              "      border-left-color: var(--fill-color);\n",
              "      border-top-color: var(--fill-color);\n",
              "    }\n",
              "    30% {\n",
              "      border-color: transparent;\n",
              "      border-left-color: var(--fill-color);\n",
              "      border-top-color: var(--fill-color);\n",
              "      border-right-color: var(--fill-color);\n",
              "    }\n",
              "    40% {\n",
              "      border-color: transparent;\n",
              "      border-right-color: var(--fill-color);\n",
              "      border-top-color: var(--fill-color);\n",
              "    }\n",
              "    60% {\n",
              "      border-color: transparent;\n",
              "      border-right-color: var(--fill-color);\n",
              "    }\n",
              "    80% {\n",
              "      border-color: transparent;\n",
              "      border-right-color: var(--fill-color);\n",
              "      border-bottom-color: var(--fill-color);\n",
              "    }\n",
              "    90% {\n",
              "      border-color: transparent;\n",
              "      border-bottom-color: var(--fill-color);\n",
              "    }\n",
              "  }\n",
              "</style>\n",
              "\n",
              "  <script>\n",
              "    async function quickchart(key) {\n",
              "      const quickchartButtonEl =\n",
              "        document.querySelector('#' + key + ' button');\n",
              "      quickchartButtonEl.disabled = true;  // To prevent multiple clicks.\n",
              "      quickchartButtonEl.classList.add('colab-df-spinner');\n",
              "      try {\n",
              "        const charts = await google.colab.kernel.invokeFunction(\n",
              "            'suggestCharts', [key], {});\n",
              "      } catch (error) {\n",
              "        console.error('Error during call to suggestCharts:', error);\n",
              "      }\n",
              "      quickchartButtonEl.classList.remove('colab-df-spinner');\n",
              "      quickchartButtonEl.classList.add('colab-df-quickchart-complete');\n",
              "    }\n",
              "    (() => {\n",
              "      let quickchartButtonEl =\n",
              "        document.querySelector('#df-67dfd311-1999-492d-81fe-24656d7d2950 button');\n",
              "      quickchartButtonEl.style.display =\n",
              "        google.colab.kernel.accessAllowed ? 'block' : 'none';\n",
              "    })();\n",
              "  </script>\n",
              "</div>\n",
              "    </div>\n",
              "  </div>\n"
            ]
          },
          "metadata": {},
          "execution_count": 147
        }
      ],
      "source": [
        "# Display summary statistics of the DataFrame\n",
        "df.describe()"
      ]
    },
    {
      "cell_type": "code",
      "execution_count": 148,
      "metadata": {
        "id": "BmQjFSR_Ksf8",
        "colab": {
          "base_uri": "https://localhost:8080/"
        },
        "outputId": "b25e628c-7a28-4d0a-a2a0-82f21f3c10cf"
      },
      "outputs": [
        {
          "output_type": "execute_result",
          "data": {
            "text/plain": [
              "gender              0\n",
              "SeniorCitizen       0\n",
              "Partner             0\n",
              "Dependents          0\n",
              "tenure              0\n",
              "PhoneService        0\n",
              "MultipleLines       0\n",
              "InternetService     0\n",
              "OnlineSecurity      0\n",
              "OnlineBackup        0\n",
              "DeviceProtection    0\n",
              "TechSupport         0\n",
              "StreamingTV         0\n",
              "StreamingMovies     0\n",
              "Contract            0\n",
              "PaperlessBilling    0\n",
              "PaymentMethod       0\n",
              "MonthlyCharges      0\n",
              "TotalCharges        0\n",
              "Churn               0\n",
              "dtype: int64"
            ]
          },
          "metadata": {},
          "execution_count": 148
        }
      ],
      "source": [
        "# Check for missing values in the DataFrame\n",
        "df.isnull().sum()"
      ]
    },
    {
      "cell_type": "code",
      "execution_count": 149,
      "metadata": {
        "id": "VrhPPttXO2vQ",
        "colab": {
          "base_uri": "https://localhost:8080/"
        },
        "outputId": "0f5c6ee7-b09d-47f9-a324-7275d52939b6"
      },
      "outputs": [
        {
          "output_type": "stream",
          "name": "stdout",
          "text": [
            "The number of features in the DataFrame is: 20\n"
          ]
        }
      ],
      "source": [
        "# Count the number of features in the DataFrame\n",
        "num_features = df.shape[1]\n",
        "print(f\"The number of features in the DataFrame is: {num_features}\")"
      ]
    },
    {
      "cell_type": "code",
      "execution_count": 150,
      "metadata": {
        "id": "eA49J0Nn753H",
        "colab": {
          "base_uri": "https://localhost:8080/"
        },
        "outputId": "1f2af640-e3af-4653-9e6b-26bda393ef99"
      },
      "outputs": [
        {
          "output_type": "stream",
          "name": "stdout",
          "text": [
            "The object  columns in the DataFrame are: \n",
            "Index(['gender', 'Partner', 'Dependents', 'PhoneService', 'MultipleLines',\n",
            "       'InternetService', 'OnlineSecurity', 'OnlineBackup', 'DeviceProtection',\n",
            "       'TechSupport', 'StreamingTV', 'StreamingMovies', 'Contract',\n",
            "       'PaperlessBilling', 'PaymentMethod', 'Churn'],\n",
            "      dtype='object')\n"
          ]
        }
      ],
      "source": [
        "# Identify and display object columns in the DataFrame\n",
        "object_columns = df.select_dtypes(include=['object']).columns\n",
        "print(f\"The object  columns in the DataFrame are: \\n{object_columns}\")"
      ]
    },
    {
      "cell_type": "code",
      "execution_count": 151,
      "metadata": {
        "id": "N38gtwrn3W0l",
        "colab": {
          "base_uri": "https://localhost:8080/"
        },
        "outputId": "0dac81c0-4aa7-4890-f98e-3b8dae214f08"
      },
      "outputs": [
        {
          "output_type": "stream",
          "name": "stdout",
          "text": [
            "The numerical columns in the DataFrame are: \n",
            "      SeniorCitizen  tenure  MonthlyCharges  TotalCharges\n",
            "0                 0       1           29.85         29.85\n",
            "1                 0      34           56.95       1889.50\n",
            "2                 0       2           53.85        108.15\n",
            "3                 0      45           42.30       1840.75\n",
            "4                 0       2           70.70        151.65\n",
            "...             ...     ...             ...           ...\n",
            "7038              0      24           84.80       1990.50\n",
            "7039              0      72          103.20       7362.90\n",
            "7040              0      11           29.60        346.45\n",
            "7041              1       4           74.40        306.60\n",
            "7042              0      66          105.65       6844.50\n",
            "\n",
            "[7032 rows x 4 columns]\n"
          ]
        }
      ],
      "source": [
        "# Identify and display numerical columns in the DataFrame\n",
        "numerical_columns = df.select_dtypes(include=['int64', 'float64'])\n",
        "print(f\"The numerical columns in the DataFrame are: \\n{numerical_columns}\")"
      ]
    },
    {
      "cell_type": "code",
      "execution_count": 152,
      "metadata": {
        "id": "DyyQXR95Ge18",
        "colab": {
          "base_uri": "https://localhost:8080/",
          "height": 295
        },
        "outputId": "d562adec-44a5-4061-8304-de9f2609ec61"
      },
      "outputs": [
        {
          "output_type": "execute_result",
          "data": {
            "text/plain": [
              "   gender  SeniorCitizen Partner Dependents  tenure PhoneService  \\\n",
              "0  Female              0     Yes         No       1           No   \n",
              "1    Male              0      No         No      34          Yes   \n",
              "2    Male              0      No         No       2          Yes   \n",
              "3    Male              0      No         No      45           No   \n",
              "4  Female              0      No         No       2          Yes   \n",
              "\n",
              "      MultipleLines InternetService OnlineSecurity OnlineBackup  \\\n",
              "0  No phone service             DSL             No          Yes   \n",
              "1                No             DSL            Yes           No   \n",
              "2                No             DSL            Yes          Yes   \n",
              "3  No phone service             DSL            Yes           No   \n",
              "4                No     Fiber optic             No           No   \n",
              "\n",
              "  DeviceProtection TechSupport StreamingTV StreamingMovies        Contract  \\\n",
              "0               No          No          No              No  Month-to-month   \n",
              "1              Yes          No          No              No        One year   \n",
              "2               No          No          No              No  Month-to-month   \n",
              "3              Yes         Yes          No              No        One year   \n",
              "4               No          No          No              No  Month-to-month   \n",
              "\n",
              "  PaperlessBilling              PaymentMethod  MonthlyCharges  TotalCharges  \\\n",
              "0              Yes           Electronic check           29.85         29.85   \n",
              "1               No               Mailed check           56.95       1889.50   \n",
              "2              Yes               Mailed check           53.85        108.15   \n",
              "3               No  Bank transfer (automatic)           42.30       1840.75   \n",
              "4              Yes           Electronic check           70.70        151.65   \n",
              "\n",
              "  Churn  \n",
              "0    No  \n",
              "1    No  \n",
              "2   Yes  \n",
              "3    No  \n",
              "4   Yes  "
            ],
            "text/html": [
              "\n",
              "  <div id=\"df-bfd70914-f630-4bbc-bfc4-7cc3347ceff3\" class=\"colab-df-container\">\n",
              "    <div>\n",
              "<style scoped>\n",
              "    .dataframe tbody tr th:only-of-type {\n",
              "        vertical-align: middle;\n",
              "    }\n",
              "\n",
              "    .dataframe tbody tr th {\n",
              "        vertical-align: top;\n",
              "    }\n",
              "\n",
              "    .dataframe thead th {\n",
              "        text-align: right;\n",
              "    }\n",
              "</style>\n",
              "<table border=\"1\" class=\"dataframe\">\n",
              "  <thead>\n",
              "    <tr style=\"text-align: right;\">\n",
              "      <th></th>\n",
              "      <th>gender</th>\n",
              "      <th>SeniorCitizen</th>\n",
              "      <th>Partner</th>\n",
              "      <th>Dependents</th>\n",
              "      <th>tenure</th>\n",
              "      <th>PhoneService</th>\n",
              "      <th>MultipleLines</th>\n",
              "      <th>InternetService</th>\n",
              "      <th>OnlineSecurity</th>\n",
              "      <th>OnlineBackup</th>\n",
              "      <th>DeviceProtection</th>\n",
              "      <th>TechSupport</th>\n",
              "      <th>StreamingTV</th>\n",
              "      <th>StreamingMovies</th>\n",
              "      <th>Contract</th>\n",
              "      <th>PaperlessBilling</th>\n",
              "      <th>PaymentMethod</th>\n",
              "      <th>MonthlyCharges</th>\n",
              "      <th>TotalCharges</th>\n",
              "      <th>Churn</th>\n",
              "    </tr>\n",
              "  </thead>\n",
              "  <tbody>\n",
              "    <tr>\n",
              "      <th>0</th>\n",
              "      <td>Female</td>\n",
              "      <td>0</td>\n",
              "      <td>Yes</td>\n",
              "      <td>No</td>\n",
              "      <td>1</td>\n",
              "      <td>No</td>\n",
              "      <td>No phone service</td>\n",
              "      <td>DSL</td>\n",
              "      <td>No</td>\n",
              "      <td>Yes</td>\n",
              "      <td>No</td>\n",
              "      <td>No</td>\n",
              "      <td>No</td>\n",
              "      <td>No</td>\n",
              "      <td>Month-to-month</td>\n",
              "      <td>Yes</td>\n",
              "      <td>Electronic check</td>\n",
              "      <td>29.85</td>\n",
              "      <td>29.85</td>\n",
              "      <td>No</td>\n",
              "    </tr>\n",
              "    <tr>\n",
              "      <th>1</th>\n",
              "      <td>Male</td>\n",
              "      <td>0</td>\n",
              "      <td>No</td>\n",
              "      <td>No</td>\n",
              "      <td>34</td>\n",
              "      <td>Yes</td>\n",
              "      <td>No</td>\n",
              "      <td>DSL</td>\n",
              "      <td>Yes</td>\n",
              "      <td>No</td>\n",
              "      <td>Yes</td>\n",
              "      <td>No</td>\n",
              "      <td>No</td>\n",
              "      <td>No</td>\n",
              "      <td>One year</td>\n",
              "      <td>No</td>\n",
              "      <td>Mailed check</td>\n",
              "      <td>56.95</td>\n",
              "      <td>1889.50</td>\n",
              "      <td>No</td>\n",
              "    </tr>\n",
              "    <tr>\n",
              "      <th>2</th>\n",
              "      <td>Male</td>\n",
              "      <td>0</td>\n",
              "      <td>No</td>\n",
              "      <td>No</td>\n",
              "      <td>2</td>\n",
              "      <td>Yes</td>\n",
              "      <td>No</td>\n",
              "      <td>DSL</td>\n",
              "      <td>Yes</td>\n",
              "      <td>Yes</td>\n",
              "      <td>No</td>\n",
              "      <td>No</td>\n",
              "      <td>No</td>\n",
              "      <td>No</td>\n",
              "      <td>Month-to-month</td>\n",
              "      <td>Yes</td>\n",
              "      <td>Mailed check</td>\n",
              "      <td>53.85</td>\n",
              "      <td>108.15</td>\n",
              "      <td>Yes</td>\n",
              "    </tr>\n",
              "    <tr>\n",
              "      <th>3</th>\n",
              "      <td>Male</td>\n",
              "      <td>0</td>\n",
              "      <td>No</td>\n",
              "      <td>No</td>\n",
              "      <td>45</td>\n",
              "      <td>No</td>\n",
              "      <td>No phone service</td>\n",
              "      <td>DSL</td>\n",
              "      <td>Yes</td>\n",
              "      <td>No</td>\n",
              "      <td>Yes</td>\n",
              "      <td>Yes</td>\n",
              "      <td>No</td>\n",
              "      <td>No</td>\n",
              "      <td>One year</td>\n",
              "      <td>No</td>\n",
              "      <td>Bank transfer (automatic)</td>\n",
              "      <td>42.30</td>\n",
              "      <td>1840.75</td>\n",
              "      <td>No</td>\n",
              "    </tr>\n",
              "    <tr>\n",
              "      <th>4</th>\n",
              "      <td>Female</td>\n",
              "      <td>0</td>\n",
              "      <td>No</td>\n",
              "      <td>No</td>\n",
              "      <td>2</td>\n",
              "      <td>Yes</td>\n",
              "      <td>No</td>\n",
              "      <td>Fiber optic</td>\n",
              "      <td>No</td>\n",
              "      <td>No</td>\n",
              "      <td>No</td>\n",
              "      <td>No</td>\n",
              "      <td>No</td>\n",
              "      <td>No</td>\n",
              "      <td>Month-to-month</td>\n",
              "      <td>Yes</td>\n",
              "      <td>Electronic check</td>\n",
              "      <td>70.70</td>\n",
              "      <td>151.65</td>\n",
              "      <td>Yes</td>\n",
              "    </tr>\n",
              "  </tbody>\n",
              "</table>\n",
              "</div>\n",
              "    <div class=\"colab-df-buttons\">\n",
              "\n",
              "  <div class=\"colab-df-container\">\n",
              "    <button class=\"colab-df-convert\" onclick=\"convertToInteractive('df-bfd70914-f630-4bbc-bfc4-7cc3347ceff3')\"\n",
              "            title=\"Convert this dataframe to an interactive table.\"\n",
              "            style=\"display:none;\">\n",
              "\n",
              "  <svg xmlns=\"http://www.w3.org/2000/svg\" height=\"24px\" viewBox=\"0 -960 960 960\">\n",
              "    <path d=\"M120-120v-720h720v720H120Zm60-500h600v-160H180v160Zm220 220h160v-160H400v160Zm0 220h160v-160H400v160ZM180-400h160v-160H180v160Zm440 0h160v-160H620v160ZM180-180h160v-160H180v160Zm440 0h160v-160H620v160Z\"/>\n",
              "  </svg>\n",
              "    </button>\n",
              "\n",
              "  <style>\n",
              "    .colab-df-container {\n",
              "      display:flex;\n",
              "      gap: 12px;\n",
              "    }\n",
              "\n",
              "    .colab-df-convert {\n",
              "      background-color: #E8F0FE;\n",
              "      border: none;\n",
              "      border-radius: 50%;\n",
              "      cursor: pointer;\n",
              "      display: none;\n",
              "      fill: #1967D2;\n",
              "      height: 32px;\n",
              "      padding: 0 0 0 0;\n",
              "      width: 32px;\n",
              "    }\n",
              "\n",
              "    .colab-df-convert:hover {\n",
              "      background-color: #E2EBFA;\n",
              "      box-shadow: 0px 1px 2px rgba(60, 64, 67, 0.3), 0px 1px 3px 1px rgba(60, 64, 67, 0.15);\n",
              "      fill: #174EA6;\n",
              "    }\n",
              "\n",
              "    .colab-df-buttons div {\n",
              "      margin-bottom: 4px;\n",
              "    }\n",
              "\n",
              "    [theme=dark] .colab-df-convert {\n",
              "      background-color: #3B4455;\n",
              "      fill: #D2E3FC;\n",
              "    }\n",
              "\n",
              "    [theme=dark] .colab-df-convert:hover {\n",
              "      background-color: #434B5C;\n",
              "      box-shadow: 0px 1px 3px 1px rgba(0, 0, 0, 0.15);\n",
              "      filter: drop-shadow(0px 1px 2px rgba(0, 0, 0, 0.3));\n",
              "      fill: #FFFFFF;\n",
              "    }\n",
              "  </style>\n",
              "\n",
              "    <script>\n",
              "      const buttonEl =\n",
              "        document.querySelector('#df-bfd70914-f630-4bbc-bfc4-7cc3347ceff3 button.colab-df-convert');\n",
              "      buttonEl.style.display =\n",
              "        google.colab.kernel.accessAllowed ? 'block' : 'none';\n",
              "\n",
              "      async function convertToInteractive(key) {\n",
              "        const element = document.querySelector('#df-bfd70914-f630-4bbc-bfc4-7cc3347ceff3');\n",
              "        const dataTable =\n",
              "          await google.colab.kernel.invokeFunction('convertToInteractive',\n",
              "                                                    [key], {});\n",
              "        if (!dataTable) return;\n",
              "\n",
              "        const docLinkHtml = 'Like what you see? Visit the ' +\n",
              "          '<a target=\"_blank\" href=https://colab.research.google.com/notebooks/data_table.ipynb>data table notebook</a>'\n",
              "          + ' to learn more about interactive tables.';\n",
              "        element.innerHTML = '';\n",
              "        dataTable['output_type'] = 'display_data';\n",
              "        await google.colab.output.renderOutput(dataTable, element);\n",
              "        const docLink = document.createElement('div');\n",
              "        docLink.innerHTML = docLinkHtml;\n",
              "        element.appendChild(docLink);\n",
              "      }\n",
              "    </script>\n",
              "  </div>\n",
              "\n",
              "\n",
              "<div id=\"df-45e612bd-158f-425b-b95b-3d7fbf6b199d\">\n",
              "  <button class=\"colab-df-quickchart\" onclick=\"quickchart('df-45e612bd-158f-425b-b95b-3d7fbf6b199d')\"\n",
              "            title=\"Suggest charts\"\n",
              "            style=\"display:none;\">\n",
              "\n",
              "<svg xmlns=\"http://www.w3.org/2000/svg\" height=\"24px\"viewBox=\"0 0 24 24\"\n",
              "     width=\"24px\">\n",
              "    <g>\n",
              "        <path d=\"M19 3H5c-1.1 0-2 .9-2 2v14c0 1.1.9 2 2 2h14c1.1 0 2-.9 2-2V5c0-1.1-.9-2-2-2zM9 17H7v-7h2v7zm4 0h-2V7h2v10zm4 0h-2v-4h2v4z\"/>\n",
              "    </g>\n",
              "</svg>\n",
              "  </button>\n",
              "\n",
              "<style>\n",
              "  .colab-df-quickchart {\n",
              "      --bg-color: #E8F0FE;\n",
              "      --fill-color: #1967D2;\n",
              "      --hover-bg-color: #E2EBFA;\n",
              "      --hover-fill-color: #174EA6;\n",
              "      --disabled-fill-color: #AAA;\n",
              "      --disabled-bg-color: #DDD;\n",
              "  }\n",
              "\n",
              "  [theme=dark] .colab-df-quickchart {\n",
              "      --bg-color: #3B4455;\n",
              "      --fill-color: #D2E3FC;\n",
              "      --hover-bg-color: #434B5C;\n",
              "      --hover-fill-color: #FFFFFF;\n",
              "      --disabled-bg-color: #3B4455;\n",
              "      --disabled-fill-color: #666;\n",
              "  }\n",
              "\n",
              "  .colab-df-quickchart {\n",
              "    background-color: var(--bg-color);\n",
              "    border: none;\n",
              "    border-radius: 50%;\n",
              "    cursor: pointer;\n",
              "    display: none;\n",
              "    fill: var(--fill-color);\n",
              "    height: 32px;\n",
              "    padding: 0;\n",
              "    width: 32px;\n",
              "  }\n",
              "\n",
              "  .colab-df-quickchart:hover {\n",
              "    background-color: var(--hover-bg-color);\n",
              "    box-shadow: 0 1px 2px rgba(60, 64, 67, 0.3), 0 1px 3px 1px rgba(60, 64, 67, 0.15);\n",
              "    fill: var(--button-hover-fill-color);\n",
              "  }\n",
              "\n",
              "  .colab-df-quickchart-complete:disabled,\n",
              "  .colab-df-quickchart-complete:disabled:hover {\n",
              "    background-color: var(--disabled-bg-color);\n",
              "    fill: var(--disabled-fill-color);\n",
              "    box-shadow: none;\n",
              "  }\n",
              "\n",
              "  .colab-df-spinner {\n",
              "    border: 2px solid var(--fill-color);\n",
              "    border-color: transparent;\n",
              "    border-bottom-color: var(--fill-color);\n",
              "    animation:\n",
              "      spin 1s steps(1) infinite;\n",
              "  }\n",
              "\n",
              "  @keyframes spin {\n",
              "    0% {\n",
              "      border-color: transparent;\n",
              "      border-bottom-color: var(--fill-color);\n",
              "      border-left-color: var(--fill-color);\n",
              "    }\n",
              "    20% {\n",
              "      border-color: transparent;\n",
              "      border-left-color: var(--fill-color);\n",
              "      border-top-color: var(--fill-color);\n",
              "    }\n",
              "    30% {\n",
              "      border-color: transparent;\n",
              "      border-left-color: var(--fill-color);\n",
              "      border-top-color: var(--fill-color);\n",
              "      border-right-color: var(--fill-color);\n",
              "    }\n",
              "    40% {\n",
              "      border-color: transparent;\n",
              "      border-right-color: var(--fill-color);\n",
              "      border-top-color: var(--fill-color);\n",
              "    }\n",
              "    60% {\n",
              "      border-color: transparent;\n",
              "      border-right-color: var(--fill-color);\n",
              "    }\n",
              "    80% {\n",
              "      border-color: transparent;\n",
              "      border-right-color: var(--fill-color);\n",
              "      border-bottom-color: var(--fill-color);\n",
              "    }\n",
              "    90% {\n",
              "      border-color: transparent;\n",
              "      border-bottom-color: var(--fill-color);\n",
              "    }\n",
              "  }\n",
              "</style>\n",
              "\n",
              "  <script>\n",
              "    async function quickchart(key) {\n",
              "      const quickchartButtonEl =\n",
              "        document.querySelector('#' + key + ' button');\n",
              "      quickchartButtonEl.disabled = true;  // To prevent multiple clicks.\n",
              "      quickchartButtonEl.classList.add('colab-df-spinner');\n",
              "      try {\n",
              "        const charts = await google.colab.kernel.invokeFunction(\n",
              "            'suggestCharts', [key], {});\n",
              "      } catch (error) {\n",
              "        console.error('Error during call to suggestCharts:', error);\n",
              "      }\n",
              "      quickchartButtonEl.classList.remove('colab-df-spinner');\n",
              "      quickchartButtonEl.classList.add('colab-df-quickchart-complete');\n",
              "    }\n",
              "    (() => {\n",
              "      let quickchartButtonEl =\n",
              "        document.querySelector('#df-45e612bd-158f-425b-b95b-3d7fbf6b199d button');\n",
              "      quickchartButtonEl.style.display =\n",
              "        google.colab.kernel.accessAllowed ? 'block' : 'none';\n",
              "    })();\n",
              "  </script>\n",
              "</div>\n",
              "    </div>\n",
              "  </div>\n"
            ]
          },
          "metadata": {},
          "execution_count": 152
        }
      ],
      "source": [
        "df.head()"
      ]
    },
    {
      "cell_type": "code",
      "source": [
        "#Display the object colums and their values\n",
        "def print_col_values(df):\n",
        "       for column in df:\n",
        "            if df[column].dtypes=='object':\n",
        "                print(f'{column}: {df[column].unique()}')"
      ],
      "metadata": {
        "id": "VsmITU4nECBM"
      },
      "execution_count": 153,
      "outputs": []
    },
    {
      "cell_type": "code",
      "source": [
        "print_col_values(df)"
      ],
      "metadata": {
        "colab": {
          "base_uri": "https://localhost:8080/"
        },
        "id": "oaV5pYuHEMZ1",
        "outputId": "8b532d00-85fe-4d20-c64f-b50ca2e3058c"
      },
      "execution_count": 154,
      "outputs": [
        {
          "output_type": "stream",
          "name": "stdout",
          "text": [
            "gender: ['Female' 'Male']\n",
            "Partner: ['Yes' 'No']\n",
            "Dependents: ['No' 'Yes']\n",
            "PhoneService: ['No' 'Yes']\n",
            "MultipleLines: ['No phone service' 'No' 'Yes']\n",
            "InternetService: ['DSL' 'Fiber optic' 'No']\n",
            "OnlineSecurity: ['No' 'Yes' 'No internet service']\n",
            "OnlineBackup: ['Yes' 'No' 'No internet service']\n",
            "DeviceProtection: ['No' 'Yes' 'No internet service']\n",
            "TechSupport: ['No' 'Yes' 'No internet service']\n",
            "StreamingTV: ['No' 'Yes' 'No internet service']\n",
            "StreamingMovies: ['No' 'Yes' 'No internet service']\n",
            "Contract: ['Month-to-month' 'One year' 'Two year']\n",
            "PaperlessBilling: ['Yes' 'No']\n",
            "PaymentMethod: ['Electronic check' 'Mailed check' 'Bank transfer (automatic)'\n",
            " 'Credit card (automatic)']\n",
            "Churn: ['No' 'Yes']\n"
          ]
        }
      ]
    },
    {
      "cell_type": "markdown",
      "metadata": {
        "id": "TkkfsvxY3t1U"
      },
      "source": [
        "**Encoding  Columns**"
      ]
    },
    {
      "cell_type": "code",
      "execution_count": 155,
      "metadata": {
        "id": "ncin9NWu3pnj"
      },
      "outputs": [],
      "source": [
        "#encoding all object columns\n",
        "for column in object_columns:\n",
        "    df[column] = pd.factorize(df[column])[0]\n"
      ]
    },
    {
      "cell_type": "code",
      "execution_count": 156,
      "metadata": {
        "id": "rz6x5jauHNUD"
      },
      "outputs": [],
      "source": [
        "encoded_customer_df = df.copy()"
      ]
    },
    {
      "cell_type": "code",
      "execution_count": 157,
      "metadata": {
        "id": "lO-DUESatcdO",
        "colab": {
          "base_uri": "https://localhost:8080/",
          "height": 226
        },
        "outputId": "aeb36ee0-b19e-4705-b46d-e85aa8eaf736"
      },
      "outputs": [
        {
          "output_type": "execute_result",
          "data": {
            "text/plain": [
              "   gender  SeniorCitizen  Partner  Dependents  tenure  PhoneService  \\\n",
              "0       0              0        0           0       1             0   \n",
              "1       1              0        1           0      34             1   \n",
              "2       1              0        1           0       2             1   \n",
              "3       1              0        1           0      45             0   \n",
              "4       0              0        1           0       2             1   \n",
              "\n",
              "   MultipleLines  InternetService  OnlineSecurity  OnlineBackup  \\\n",
              "0              0                0               0             0   \n",
              "1              1                0               1             1   \n",
              "2              1                0               1             0   \n",
              "3              0                0               1             1   \n",
              "4              1                1               0             1   \n",
              "\n",
              "   DeviceProtection  TechSupport  StreamingTV  StreamingMovies  Contract  \\\n",
              "0                 0            0            0                0         0   \n",
              "1                 1            0            0                0         1   \n",
              "2                 0            0            0                0         0   \n",
              "3                 1            1            0                0         1   \n",
              "4                 0            0            0                0         0   \n",
              "\n",
              "   PaperlessBilling  PaymentMethod  MonthlyCharges  TotalCharges  Churn  \n",
              "0                 0              0           29.85         29.85      0  \n",
              "1                 1              1           56.95       1889.50      0  \n",
              "2                 0              1           53.85        108.15      1  \n",
              "3                 1              2           42.30       1840.75      0  \n",
              "4                 0              0           70.70        151.65      1  "
            ],
            "text/html": [
              "\n",
              "  <div id=\"df-4590d6bf-abfa-4570-8be0-4f20f2f93881\" class=\"colab-df-container\">\n",
              "    <div>\n",
              "<style scoped>\n",
              "    .dataframe tbody tr th:only-of-type {\n",
              "        vertical-align: middle;\n",
              "    }\n",
              "\n",
              "    .dataframe tbody tr th {\n",
              "        vertical-align: top;\n",
              "    }\n",
              "\n",
              "    .dataframe thead th {\n",
              "        text-align: right;\n",
              "    }\n",
              "</style>\n",
              "<table border=\"1\" class=\"dataframe\">\n",
              "  <thead>\n",
              "    <tr style=\"text-align: right;\">\n",
              "      <th></th>\n",
              "      <th>gender</th>\n",
              "      <th>SeniorCitizen</th>\n",
              "      <th>Partner</th>\n",
              "      <th>Dependents</th>\n",
              "      <th>tenure</th>\n",
              "      <th>PhoneService</th>\n",
              "      <th>MultipleLines</th>\n",
              "      <th>InternetService</th>\n",
              "      <th>OnlineSecurity</th>\n",
              "      <th>OnlineBackup</th>\n",
              "      <th>DeviceProtection</th>\n",
              "      <th>TechSupport</th>\n",
              "      <th>StreamingTV</th>\n",
              "      <th>StreamingMovies</th>\n",
              "      <th>Contract</th>\n",
              "      <th>PaperlessBilling</th>\n",
              "      <th>PaymentMethod</th>\n",
              "      <th>MonthlyCharges</th>\n",
              "      <th>TotalCharges</th>\n",
              "      <th>Churn</th>\n",
              "    </tr>\n",
              "  </thead>\n",
              "  <tbody>\n",
              "    <tr>\n",
              "      <th>0</th>\n",
              "      <td>0</td>\n",
              "      <td>0</td>\n",
              "      <td>0</td>\n",
              "      <td>0</td>\n",
              "      <td>1</td>\n",
              "      <td>0</td>\n",
              "      <td>0</td>\n",
              "      <td>0</td>\n",
              "      <td>0</td>\n",
              "      <td>0</td>\n",
              "      <td>0</td>\n",
              "      <td>0</td>\n",
              "      <td>0</td>\n",
              "      <td>0</td>\n",
              "      <td>0</td>\n",
              "      <td>0</td>\n",
              "      <td>0</td>\n",
              "      <td>29.85</td>\n",
              "      <td>29.85</td>\n",
              "      <td>0</td>\n",
              "    </tr>\n",
              "    <tr>\n",
              "      <th>1</th>\n",
              "      <td>1</td>\n",
              "      <td>0</td>\n",
              "      <td>1</td>\n",
              "      <td>0</td>\n",
              "      <td>34</td>\n",
              "      <td>1</td>\n",
              "      <td>1</td>\n",
              "      <td>0</td>\n",
              "      <td>1</td>\n",
              "      <td>1</td>\n",
              "      <td>1</td>\n",
              "      <td>0</td>\n",
              "      <td>0</td>\n",
              "      <td>0</td>\n",
              "      <td>1</td>\n",
              "      <td>1</td>\n",
              "      <td>1</td>\n",
              "      <td>56.95</td>\n",
              "      <td>1889.50</td>\n",
              "      <td>0</td>\n",
              "    </tr>\n",
              "    <tr>\n",
              "      <th>2</th>\n",
              "      <td>1</td>\n",
              "      <td>0</td>\n",
              "      <td>1</td>\n",
              "      <td>0</td>\n",
              "      <td>2</td>\n",
              "      <td>1</td>\n",
              "      <td>1</td>\n",
              "      <td>0</td>\n",
              "      <td>1</td>\n",
              "      <td>0</td>\n",
              "      <td>0</td>\n",
              "      <td>0</td>\n",
              "      <td>0</td>\n",
              "      <td>0</td>\n",
              "      <td>0</td>\n",
              "      <td>0</td>\n",
              "      <td>1</td>\n",
              "      <td>53.85</td>\n",
              "      <td>108.15</td>\n",
              "      <td>1</td>\n",
              "    </tr>\n",
              "    <tr>\n",
              "      <th>3</th>\n",
              "      <td>1</td>\n",
              "      <td>0</td>\n",
              "      <td>1</td>\n",
              "      <td>0</td>\n",
              "      <td>45</td>\n",
              "      <td>0</td>\n",
              "      <td>0</td>\n",
              "      <td>0</td>\n",
              "      <td>1</td>\n",
              "      <td>1</td>\n",
              "      <td>1</td>\n",
              "      <td>1</td>\n",
              "      <td>0</td>\n",
              "      <td>0</td>\n",
              "      <td>1</td>\n",
              "      <td>1</td>\n",
              "      <td>2</td>\n",
              "      <td>42.30</td>\n",
              "      <td>1840.75</td>\n",
              "      <td>0</td>\n",
              "    </tr>\n",
              "    <tr>\n",
              "      <th>4</th>\n",
              "      <td>0</td>\n",
              "      <td>0</td>\n",
              "      <td>1</td>\n",
              "      <td>0</td>\n",
              "      <td>2</td>\n",
              "      <td>1</td>\n",
              "      <td>1</td>\n",
              "      <td>1</td>\n",
              "      <td>0</td>\n",
              "      <td>1</td>\n",
              "      <td>0</td>\n",
              "      <td>0</td>\n",
              "      <td>0</td>\n",
              "      <td>0</td>\n",
              "      <td>0</td>\n",
              "      <td>0</td>\n",
              "      <td>0</td>\n",
              "      <td>70.70</td>\n",
              "      <td>151.65</td>\n",
              "      <td>1</td>\n",
              "    </tr>\n",
              "  </tbody>\n",
              "</table>\n",
              "</div>\n",
              "    <div class=\"colab-df-buttons\">\n",
              "\n",
              "  <div class=\"colab-df-container\">\n",
              "    <button class=\"colab-df-convert\" onclick=\"convertToInteractive('df-4590d6bf-abfa-4570-8be0-4f20f2f93881')\"\n",
              "            title=\"Convert this dataframe to an interactive table.\"\n",
              "            style=\"display:none;\">\n",
              "\n",
              "  <svg xmlns=\"http://www.w3.org/2000/svg\" height=\"24px\" viewBox=\"0 -960 960 960\">\n",
              "    <path d=\"M120-120v-720h720v720H120Zm60-500h600v-160H180v160Zm220 220h160v-160H400v160Zm0 220h160v-160H400v160ZM180-400h160v-160H180v160Zm440 0h160v-160H620v160ZM180-180h160v-160H180v160Zm440 0h160v-160H620v160Z\"/>\n",
              "  </svg>\n",
              "    </button>\n",
              "\n",
              "  <style>\n",
              "    .colab-df-container {\n",
              "      display:flex;\n",
              "      gap: 12px;\n",
              "    }\n",
              "\n",
              "    .colab-df-convert {\n",
              "      background-color: #E8F0FE;\n",
              "      border: none;\n",
              "      border-radius: 50%;\n",
              "      cursor: pointer;\n",
              "      display: none;\n",
              "      fill: #1967D2;\n",
              "      height: 32px;\n",
              "      padding: 0 0 0 0;\n",
              "      width: 32px;\n",
              "    }\n",
              "\n",
              "    .colab-df-convert:hover {\n",
              "      background-color: #E2EBFA;\n",
              "      box-shadow: 0px 1px 2px rgba(60, 64, 67, 0.3), 0px 1px 3px 1px rgba(60, 64, 67, 0.15);\n",
              "      fill: #174EA6;\n",
              "    }\n",
              "\n",
              "    .colab-df-buttons div {\n",
              "      margin-bottom: 4px;\n",
              "    }\n",
              "\n",
              "    [theme=dark] .colab-df-convert {\n",
              "      background-color: #3B4455;\n",
              "      fill: #D2E3FC;\n",
              "    }\n",
              "\n",
              "    [theme=dark] .colab-df-convert:hover {\n",
              "      background-color: #434B5C;\n",
              "      box-shadow: 0px 1px 3px 1px rgba(0, 0, 0, 0.15);\n",
              "      filter: drop-shadow(0px 1px 2px rgba(0, 0, 0, 0.3));\n",
              "      fill: #FFFFFF;\n",
              "    }\n",
              "  </style>\n",
              "\n",
              "    <script>\n",
              "      const buttonEl =\n",
              "        document.querySelector('#df-4590d6bf-abfa-4570-8be0-4f20f2f93881 button.colab-df-convert');\n",
              "      buttonEl.style.display =\n",
              "        google.colab.kernel.accessAllowed ? 'block' : 'none';\n",
              "\n",
              "      async function convertToInteractive(key) {\n",
              "        const element = document.querySelector('#df-4590d6bf-abfa-4570-8be0-4f20f2f93881');\n",
              "        const dataTable =\n",
              "          await google.colab.kernel.invokeFunction('convertToInteractive',\n",
              "                                                    [key], {});\n",
              "        if (!dataTable) return;\n",
              "\n",
              "        const docLinkHtml = 'Like what you see? Visit the ' +\n",
              "          '<a target=\"_blank\" href=https://colab.research.google.com/notebooks/data_table.ipynb>data table notebook</a>'\n",
              "          + ' to learn more about interactive tables.';\n",
              "        element.innerHTML = '';\n",
              "        dataTable['output_type'] = 'display_data';\n",
              "        await google.colab.output.renderOutput(dataTable, element);\n",
              "        const docLink = document.createElement('div');\n",
              "        docLink.innerHTML = docLinkHtml;\n",
              "        element.appendChild(docLink);\n",
              "      }\n",
              "    </script>\n",
              "  </div>\n",
              "\n",
              "\n",
              "<div id=\"df-c830ee3e-68a7-4090-8f24-20531f414dcd\">\n",
              "  <button class=\"colab-df-quickchart\" onclick=\"quickchart('df-c830ee3e-68a7-4090-8f24-20531f414dcd')\"\n",
              "            title=\"Suggest charts\"\n",
              "            style=\"display:none;\">\n",
              "\n",
              "<svg xmlns=\"http://www.w3.org/2000/svg\" height=\"24px\"viewBox=\"0 0 24 24\"\n",
              "     width=\"24px\">\n",
              "    <g>\n",
              "        <path d=\"M19 3H5c-1.1 0-2 .9-2 2v14c0 1.1.9 2 2 2h14c1.1 0 2-.9 2-2V5c0-1.1-.9-2-2-2zM9 17H7v-7h2v7zm4 0h-2V7h2v10zm4 0h-2v-4h2v4z\"/>\n",
              "    </g>\n",
              "</svg>\n",
              "  </button>\n",
              "\n",
              "<style>\n",
              "  .colab-df-quickchart {\n",
              "      --bg-color: #E8F0FE;\n",
              "      --fill-color: #1967D2;\n",
              "      --hover-bg-color: #E2EBFA;\n",
              "      --hover-fill-color: #174EA6;\n",
              "      --disabled-fill-color: #AAA;\n",
              "      --disabled-bg-color: #DDD;\n",
              "  }\n",
              "\n",
              "  [theme=dark] .colab-df-quickchart {\n",
              "      --bg-color: #3B4455;\n",
              "      --fill-color: #D2E3FC;\n",
              "      --hover-bg-color: #434B5C;\n",
              "      --hover-fill-color: #FFFFFF;\n",
              "      --disabled-bg-color: #3B4455;\n",
              "      --disabled-fill-color: #666;\n",
              "  }\n",
              "\n",
              "  .colab-df-quickchart {\n",
              "    background-color: var(--bg-color);\n",
              "    border: none;\n",
              "    border-radius: 50%;\n",
              "    cursor: pointer;\n",
              "    display: none;\n",
              "    fill: var(--fill-color);\n",
              "    height: 32px;\n",
              "    padding: 0;\n",
              "    width: 32px;\n",
              "  }\n",
              "\n",
              "  .colab-df-quickchart:hover {\n",
              "    background-color: var(--hover-bg-color);\n",
              "    box-shadow: 0 1px 2px rgba(60, 64, 67, 0.3), 0 1px 3px 1px rgba(60, 64, 67, 0.15);\n",
              "    fill: var(--button-hover-fill-color);\n",
              "  }\n",
              "\n",
              "  .colab-df-quickchart-complete:disabled,\n",
              "  .colab-df-quickchart-complete:disabled:hover {\n",
              "    background-color: var(--disabled-bg-color);\n",
              "    fill: var(--disabled-fill-color);\n",
              "    box-shadow: none;\n",
              "  }\n",
              "\n",
              "  .colab-df-spinner {\n",
              "    border: 2px solid var(--fill-color);\n",
              "    border-color: transparent;\n",
              "    border-bottom-color: var(--fill-color);\n",
              "    animation:\n",
              "      spin 1s steps(1) infinite;\n",
              "  }\n",
              "\n",
              "  @keyframes spin {\n",
              "    0% {\n",
              "      border-color: transparent;\n",
              "      border-bottom-color: var(--fill-color);\n",
              "      border-left-color: var(--fill-color);\n",
              "    }\n",
              "    20% {\n",
              "      border-color: transparent;\n",
              "      border-left-color: var(--fill-color);\n",
              "      border-top-color: var(--fill-color);\n",
              "    }\n",
              "    30% {\n",
              "      border-color: transparent;\n",
              "      border-left-color: var(--fill-color);\n",
              "      border-top-color: var(--fill-color);\n",
              "      border-right-color: var(--fill-color);\n",
              "    }\n",
              "    40% {\n",
              "      border-color: transparent;\n",
              "      border-right-color: var(--fill-color);\n",
              "      border-top-color: var(--fill-color);\n",
              "    }\n",
              "    60% {\n",
              "      border-color: transparent;\n",
              "      border-right-color: var(--fill-color);\n",
              "    }\n",
              "    80% {\n",
              "      border-color: transparent;\n",
              "      border-right-color: var(--fill-color);\n",
              "      border-bottom-color: var(--fill-color);\n",
              "    }\n",
              "    90% {\n",
              "      border-color: transparent;\n",
              "      border-bottom-color: var(--fill-color);\n",
              "    }\n",
              "  }\n",
              "</style>\n",
              "\n",
              "  <script>\n",
              "    async function quickchart(key) {\n",
              "      const quickchartButtonEl =\n",
              "        document.querySelector('#' + key + ' button');\n",
              "      quickchartButtonEl.disabled = true;  // To prevent multiple clicks.\n",
              "      quickchartButtonEl.classList.add('colab-df-spinner');\n",
              "      try {\n",
              "        const charts = await google.colab.kernel.invokeFunction(\n",
              "            'suggestCharts', [key], {});\n",
              "      } catch (error) {\n",
              "        console.error('Error during call to suggestCharts:', error);\n",
              "      }\n",
              "      quickchartButtonEl.classList.remove('colab-df-spinner');\n",
              "      quickchartButtonEl.classList.add('colab-df-quickchart-complete');\n",
              "    }\n",
              "    (() => {\n",
              "      let quickchartButtonEl =\n",
              "        document.querySelector('#df-c830ee3e-68a7-4090-8f24-20531f414dcd button');\n",
              "      quickchartButtonEl.style.display =\n",
              "        google.colab.kernel.accessAllowed ? 'block' : 'none';\n",
              "    })();\n",
              "  </script>\n",
              "</div>\n",
              "    </div>\n",
              "  </div>\n"
            ]
          },
          "metadata": {},
          "execution_count": 157
        }
      ],
      "source": [
        "encoded_customer_df.head()"
      ]
    },
    {
      "cell_type": "code",
      "execution_count": 158,
      "metadata": {
        "id": "tDsdbCnf6ujr",
        "colab": {
          "base_uri": "https://localhost:8080/",
          "height": 676
        },
        "outputId": "caeab448-c2e8-4319-f29b-e5be4359082a"
      },
      "outputs": [
        {
          "output_type": "execute_result",
          "data": {
            "text/plain": [
              "                   count         mean          std    min       25%       50%  \\\n",
              "gender            7032.0     0.504693     0.500014   0.00    0.0000     1.000   \n",
              "SeniorCitizen     7032.0     0.162400     0.368844   0.00    0.0000     0.000   \n",
              "Partner           7032.0     0.517491     0.499729   0.00    0.0000     1.000   \n",
              "Dependents        7032.0     0.298493     0.457629   0.00    0.0000     0.000   \n",
              "tenure            7032.0    32.421786    24.545260   1.00    9.0000    29.000   \n",
              "PhoneService      7032.0     0.903299     0.295571   0.00    1.0000     1.000   \n",
              "MultipleLines     7032.0     1.325228     0.642585   0.00    1.0000     1.000   \n",
              "InternetService   7032.0     0.872582     0.737271   0.00    0.0000     1.000   \n",
              "OnlineSecurity    7032.0     0.718857     0.796556   0.00    0.0000     1.000   \n",
              "OnlineBackup      7032.0     0.871303     0.737917   0.00    0.0000     1.000   \n",
              "DeviceProtection  7032.0     0.776166     0.778542   0.00    0.0000     1.000   \n",
              "TechSupport       7032.0     0.722412     0.795571   0.00    0.0000     1.000   \n",
              "StreamingTV       7032.0     0.816695     0.762952   0.00    0.0000     1.000   \n",
              "StreamingMovies   7032.0     0.820677     0.761287   0.00    0.0000     1.000   \n",
              "Contract          7032.0     0.688567     0.832934   0.00    0.0000     0.000   \n",
              "PaperlessBilling  7032.0     0.407281     0.491363   0.00    0.0000     0.000   \n",
              "PaymentMethod     7032.0     1.315557     1.149523   0.00    0.0000     1.000   \n",
              "MonthlyCharges    7032.0    64.798208    30.085974  18.25   35.5875    70.350   \n",
              "TotalCharges      7032.0  2283.300441  2266.771362  18.80  401.4500  1397.475   \n",
              "Churn             7032.0     0.265785     0.441782   0.00    0.0000     0.000   \n",
              "\n",
              "                        75%      max  \n",
              "gender               1.0000     1.00  \n",
              "SeniorCitizen        0.0000     1.00  \n",
              "Partner              1.0000     1.00  \n",
              "Dependents           1.0000     1.00  \n",
              "tenure              55.0000    72.00  \n",
              "PhoneService         1.0000     1.00  \n",
              "MultipleLines        2.0000     2.00  \n",
              "InternetService      1.0000     2.00  \n",
              "OnlineSecurity       1.0000     2.00  \n",
              "OnlineBackup         1.0000     2.00  \n",
              "DeviceProtection     1.0000     2.00  \n",
              "TechSupport          1.0000     2.00  \n",
              "StreamingTV          1.0000     2.00  \n",
              "StreamingMovies      1.0000     2.00  \n",
              "Contract             1.0000     2.00  \n",
              "PaperlessBilling     1.0000     1.00  \n",
              "PaymentMethod        2.0000     3.00  \n",
              "MonthlyCharges      89.8625   118.75  \n",
              "TotalCharges      3794.7375  8684.80  \n",
              "Churn                1.0000     1.00  "
            ],
            "text/html": [
              "\n",
              "  <div id=\"df-3fe2c582-c74f-4ce4-935b-4a2390f74c4e\" class=\"colab-df-container\">\n",
              "    <div>\n",
              "<style scoped>\n",
              "    .dataframe tbody tr th:only-of-type {\n",
              "        vertical-align: middle;\n",
              "    }\n",
              "\n",
              "    .dataframe tbody tr th {\n",
              "        vertical-align: top;\n",
              "    }\n",
              "\n",
              "    .dataframe thead th {\n",
              "        text-align: right;\n",
              "    }\n",
              "</style>\n",
              "<table border=\"1\" class=\"dataframe\">\n",
              "  <thead>\n",
              "    <tr style=\"text-align: right;\">\n",
              "      <th></th>\n",
              "      <th>count</th>\n",
              "      <th>mean</th>\n",
              "      <th>std</th>\n",
              "      <th>min</th>\n",
              "      <th>25%</th>\n",
              "      <th>50%</th>\n",
              "      <th>75%</th>\n",
              "      <th>max</th>\n",
              "    </tr>\n",
              "  </thead>\n",
              "  <tbody>\n",
              "    <tr>\n",
              "      <th>gender</th>\n",
              "      <td>7032.0</td>\n",
              "      <td>0.504693</td>\n",
              "      <td>0.500014</td>\n",
              "      <td>0.00</td>\n",
              "      <td>0.0000</td>\n",
              "      <td>1.000</td>\n",
              "      <td>1.0000</td>\n",
              "      <td>1.00</td>\n",
              "    </tr>\n",
              "    <tr>\n",
              "      <th>SeniorCitizen</th>\n",
              "      <td>7032.0</td>\n",
              "      <td>0.162400</td>\n",
              "      <td>0.368844</td>\n",
              "      <td>0.00</td>\n",
              "      <td>0.0000</td>\n",
              "      <td>0.000</td>\n",
              "      <td>0.0000</td>\n",
              "      <td>1.00</td>\n",
              "    </tr>\n",
              "    <tr>\n",
              "      <th>Partner</th>\n",
              "      <td>7032.0</td>\n",
              "      <td>0.517491</td>\n",
              "      <td>0.499729</td>\n",
              "      <td>0.00</td>\n",
              "      <td>0.0000</td>\n",
              "      <td>1.000</td>\n",
              "      <td>1.0000</td>\n",
              "      <td>1.00</td>\n",
              "    </tr>\n",
              "    <tr>\n",
              "      <th>Dependents</th>\n",
              "      <td>7032.0</td>\n",
              "      <td>0.298493</td>\n",
              "      <td>0.457629</td>\n",
              "      <td>0.00</td>\n",
              "      <td>0.0000</td>\n",
              "      <td>0.000</td>\n",
              "      <td>1.0000</td>\n",
              "      <td>1.00</td>\n",
              "    </tr>\n",
              "    <tr>\n",
              "      <th>tenure</th>\n",
              "      <td>7032.0</td>\n",
              "      <td>32.421786</td>\n",
              "      <td>24.545260</td>\n",
              "      <td>1.00</td>\n",
              "      <td>9.0000</td>\n",
              "      <td>29.000</td>\n",
              "      <td>55.0000</td>\n",
              "      <td>72.00</td>\n",
              "    </tr>\n",
              "    <tr>\n",
              "      <th>PhoneService</th>\n",
              "      <td>7032.0</td>\n",
              "      <td>0.903299</td>\n",
              "      <td>0.295571</td>\n",
              "      <td>0.00</td>\n",
              "      <td>1.0000</td>\n",
              "      <td>1.000</td>\n",
              "      <td>1.0000</td>\n",
              "      <td>1.00</td>\n",
              "    </tr>\n",
              "    <tr>\n",
              "      <th>MultipleLines</th>\n",
              "      <td>7032.0</td>\n",
              "      <td>1.325228</td>\n",
              "      <td>0.642585</td>\n",
              "      <td>0.00</td>\n",
              "      <td>1.0000</td>\n",
              "      <td>1.000</td>\n",
              "      <td>2.0000</td>\n",
              "      <td>2.00</td>\n",
              "    </tr>\n",
              "    <tr>\n",
              "      <th>InternetService</th>\n",
              "      <td>7032.0</td>\n",
              "      <td>0.872582</td>\n",
              "      <td>0.737271</td>\n",
              "      <td>0.00</td>\n",
              "      <td>0.0000</td>\n",
              "      <td>1.000</td>\n",
              "      <td>1.0000</td>\n",
              "      <td>2.00</td>\n",
              "    </tr>\n",
              "    <tr>\n",
              "      <th>OnlineSecurity</th>\n",
              "      <td>7032.0</td>\n",
              "      <td>0.718857</td>\n",
              "      <td>0.796556</td>\n",
              "      <td>0.00</td>\n",
              "      <td>0.0000</td>\n",
              "      <td>1.000</td>\n",
              "      <td>1.0000</td>\n",
              "      <td>2.00</td>\n",
              "    </tr>\n",
              "    <tr>\n",
              "      <th>OnlineBackup</th>\n",
              "      <td>7032.0</td>\n",
              "      <td>0.871303</td>\n",
              "      <td>0.737917</td>\n",
              "      <td>0.00</td>\n",
              "      <td>0.0000</td>\n",
              "      <td>1.000</td>\n",
              "      <td>1.0000</td>\n",
              "      <td>2.00</td>\n",
              "    </tr>\n",
              "    <tr>\n",
              "      <th>DeviceProtection</th>\n",
              "      <td>7032.0</td>\n",
              "      <td>0.776166</td>\n",
              "      <td>0.778542</td>\n",
              "      <td>0.00</td>\n",
              "      <td>0.0000</td>\n",
              "      <td>1.000</td>\n",
              "      <td>1.0000</td>\n",
              "      <td>2.00</td>\n",
              "    </tr>\n",
              "    <tr>\n",
              "      <th>TechSupport</th>\n",
              "      <td>7032.0</td>\n",
              "      <td>0.722412</td>\n",
              "      <td>0.795571</td>\n",
              "      <td>0.00</td>\n",
              "      <td>0.0000</td>\n",
              "      <td>1.000</td>\n",
              "      <td>1.0000</td>\n",
              "      <td>2.00</td>\n",
              "    </tr>\n",
              "    <tr>\n",
              "      <th>StreamingTV</th>\n",
              "      <td>7032.0</td>\n",
              "      <td>0.816695</td>\n",
              "      <td>0.762952</td>\n",
              "      <td>0.00</td>\n",
              "      <td>0.0000</td>\n",
              "      <td>1.000</td>\n",
              "      <td>1.0000</td>\n",
              "      <td>2.00</td>\n",
              "    </tr>\n",
              "    <tr>\n",
              "      <th>StreamingMovies</th>\n",
              "      <td>7032.0</td>\n",
              "      <td>0.820677</td>\n",
              "      <td>0.761287</td>\n",
              "      <td>0.00</td>\n",
              "      <td>0.0000</td>\n",
              "      <td>1.000</td>\n",
              "      <td>1.0000</td>\n",
              "      <td>2.00</td>\n",
              "    </tr>\n",
              "    <tr>\n",
              "      <th>Contract</th>\n",
              "      <td>7032.0</td>\n",
              "      <td>0.688567</td>\n",
              "      <td>0.832934</td>\n",
              "      <td>0.00</td>\n",
              "      <td>0.0000</td>\n",
              "      <td>0.000</td>\n",
              "      <td>1.0000</td>\n",
              "      <td>2.00</td>\n",
              "    </tr>\n",
              "    <tr>\n",
              "      <th>PaperlessBilling</th>\n",
              "      <td>7032.0</td>\n",
              "      <td>0.407281</td>\n",
              "      <td>0.491363</td>\n",
              "      <td>0.00</td>\n",
              "      <td>0.0000</td>\n",
              "      <td>0.000</td>\n",
              "      <td>1.0000</td>\n",
              "      <td>1.00</td>\n",
              "    </tr>\n",
              "    <tr>\n",
              "      <th>PaymentMethod</th>\n",
              "      <td>7032.0</td>\n",
              "      <td>1.315557</td>\n",
              "      <td>1.149523</td>\n",
              "      <td>0.00</td>\n",
              "      <td>0.0000</td>\n",
              "      <td>1.000</td>\n",
              "      <td>2.0000</td>\n",
              "      <td>3.00</td>\n",
              "    </tr>\n",
              "    <tr>\n",
              "      <th>MonthlyCharges</th>\n",
              "      <td>7032.0</td>\n",
              "      <td>64.798208</td>\n",
              "      <td>30.085974</td>\n",
              "      <td>18.25</td>\n",
              "      <td>35.5875</td>\n",
              "      <td>70.350</td>\n",
              "      <td>89.8625</td>\n",
              "      <td>118.75</td>\n",
              "    </tr>\n",
              "    <tr>\n",
              "      <th>TotalCharges</th>\n",
              "      <td>7032.0</td>\n",
              "      <td>2283.300441</td>\n",
              "      <td>2266.771362</td>\n",
              "      <td>18.80</td>\n",
              "      <td>401.4500</td>\n",
              "      <td>1397.475</td>\n",
              "      <td>3794.7375</td>\n",
              "      <td>8684.80</td>\n",
              "    </tr>\n",
              "    <tr>\n",
              "      <th>Churn</th>\n",
              "      <td>7032.0</td>\n",
              "      <td>0.265785</td>\n",
              "      <td>0.441782</td>\n",
              "      <td>0.00</td>\n",
              "      <td>0.0000</td>\n",
              "      <td>0.000</td>\n",
              "      <td>1.0000</td>\n",
              "      <td>1.00</td>\n",
              "    </tr>\n",
              "  </tbody>\n",
              "</table>\n",
              "</div>\n",
              "    <div class=\"colab-df-buttons\">\n",
              "\n",
              "  <div class=\"colab-df-container\">\n",
              "    <button class=\"colab-df-convert\" onclick=\"convertToInteractive('df-3fe2c582-c74f-4ce4-935b-4a2390f74c4e')\"\n",
              "            title=\"Convert this dataframe to an interactive table.\"\n",
              "            style=\"display:none;\">\n",
              "\n",
              "  <svg xmlns=\"http://www.w3.org/2000/svg\" height=\"24px\" viewBox=\"0 -960 960 960\">\n",
              "    <path d=\"M120-120v-720h720v720H120Zm60-500h600v-160H180v160Zm220 220h160v-160H400v160Zm0 220h160v-160H400v160ZM180-400h160v-160H180v160Zm440 0h160v-160H620v160ZM180-180h160v-160H180v160Zm440 0h160v-160H620v160Z\"/>\n",
              "  </svg>\n",
              "    </button>\n",
              "\n",
              "  <style>\n",
              "    .colab-df-container {\n",
              "      display:flex;\n",
              "      gap: 12px;\n",
              "    }\n",
              "\n",
              "    .colab-df-convert {\n",
              "      background-color: #E8F0FE;\n",
              "      border: none;\n",
              "      border-radius: 50%;\n",
              "      cursor: pointer;\n",
              "      display: none;\n",
              "      fill: #1967D2;\n",
              "      height: 32px;\n",
              "      padding: 0 0 0 0;\n",
              "      width: 32px;\n",
              "    }\n",
              "\n",
              "    .colab-df-convert:hover {\n",
              "      background-color: #E2EBFA;\n",
              "      box-shadow: 0px 1px 2px rgba(60, 64, 67, 0.3), 0px 1px 3px 1px rgba(60, 64, 67, 0.15);\n",
              "      fill: #174EA6;\n",
              "    }\n",
              "\n",
              "    .colab-df-buttons div {\n",
              "      margin-bottom: 4px;\n",
              "    }\n",
              "\n",
              "    [theme=dark] .colab-df-convert {\n",
              "      background-color: #3B4455;\n",
              "      fill: #D2E3FC;\n",
              "    }\n",
              "\n",
              "    [theme=dark] .colab-df-convert:hover {\n",
              "      background-color: #434B5C;\n",
              "      box-shadow: 0px 1px 3px 1px rgba(0, 0, 0, 0.15);\n",
              "      filter: drop-shadow(0px 1px 2px rgba(0, 0, 0, 0.3));\n",
              "      fill: #FFFFFF;\n",
              "    }\n",
              "  </style>\n",
              "\n",
              "    <script>\n",
              "      const buttonEl =\n",
              "        document.querySelector('#df-3fe2c582-c74f-4ce4-935b-4a2390f74c4e button.colab-df-convert');\n",
              "      buttonEl.style.display =\n",
              "        google.colab.kernel.accessAllowed ? 'block' : 'none';\n",
              "\n",
              "      async function convertToInteractive(key) {\n",
              "        const element = document.querySelector('#df-3fe2c582-c74f-4ce4-935b-4a2390f74c4e');\n",
              "        const dataTable =\n",
              "          await google.colab.kernel.invokeFunction('convertToInteractive',\n",
              "                                                    [key], {});\n",
              "        if (!dataTable) return;\n",
              "\n",
              "        const docLinkHtml = 'Like what you see? Visit the ' +\n",
              "          '<a target=\"_blank\" href=https://colab.research.google.com/notebooks/data_table.ipynb>data table notebook</a>'\n",
              "          + ' to learn more about interactive tables.';\n",
              "        element.innerHTML = '';\n",
              "        dataTable['output_type'] = 'display_data';\n",
              "        await google.colab.output.renderOutput(dataTable, element);\n",
              "        const docLink = document.createElement('div');\n",
              "        docLink.innerHTML = docLinkHtml;\n",
              "        element.appendChild(docLink);\n",
              "      }\n",
              "    </script>\n",
              "  </div>\n",
              "\n",
              "\n",
              "<div id=\"df-9b584c28-bb3f-4f2e-9f83-c4c84ef9c265\">\n",
              "  <button class=\"colab-df-quickchart\" onclick=\"quickchart('df-9b584c28-bb3f-4f2e-9f83-c4c84ef9c265')\"\n",
              "            title=\"Suggest charts\"\n",
              "            style=\"display:none;\">\n",
              "\n",
              "<svg xmlns=\"http://www.w3.org/2000/svg\" height=\"24px\"viewBox=\"0 0 24 24\"\n",
              "     width=\"24px\">\n",
              "    <g>\n",
              "        <path d=\"M19 3H5c-1.1 0-2 .9-2 2v14c0 1.1.9 2 2 2h14c1.1 0 2-.9 2-2V5c0-1.1-.9-2-2-2zM9 17H7v-7h2v7zm4 0h-2V7h2v10zm4 0h-2v-4h2v4z\"/>\n",
              "    </g>\n",
              "</svg>\n",
              "  </button>\n",
              "\n",
              "<style>\n",
              "  .colab-df-quickchart {\n",
              "      --bg-color: #E8F0FE;\n",
              "      --fill-color: #1967D2;\n",
              "      --hover-bg-color: #E2EBFA;\n",
              "      --hover-fill-color: #174EA6;\n",
              "      --disabled-fill-color: #AAA;\n",
              "      --disabled-bg-color: #DDD;\n",
              "  }\n",
              "\n",
              "  [theme=dark] .colab-df-quickchart {\n",
              "      --bg-color: #3B4455;\n",
              "      --fill-color: #D2E3FC;\n",
              "      --hover-bg-color: #434B5C;\n",
              "      --hover-fill-color: #FFFFFF;\n",
              "      --disabled-bg-color: #3B4455;\n",
              "      --disabled-fill-color: #666;\n",
              "  }\n",
              "\n",
              "  .colab-df-quickchart {\n",
              "    background-color: var(--bg-color);\n",
              "    border: none;\n",
              "    border-radius: 50%;\n",
              "    cursor: pointer;\n",
              "    display: none;\n",
              "    fill: var(--fill-color);\n",
              "    height: 32px;\n",
              "    padding: 0;\n",
              "    width: 32px;\n",
              "  }\n",
              "\n",
              "  .colab-df-quickchart:hover {\n",
              "    background-color: var(--hover-bg-color);\n",
              "    box-shadow: 0 1px 2px rgba(60, 64, 67, 0.3), 0 1px 3px 1px rgba(60, 64, 67, 0.15);\n",
              "    fill: var(--button-hover-fill-color);\n",
              "  }\n",
              "\n",
              "  .colab-df-quickchart-complete:disabled,\n",
              "  .colab-df-quickchart-complete:disabled:hover {\n",
              "    background-color: var(--disabled-bg-color);\n",
              "    fill: var(--disabled-fill-color);\n",
              "    box-shadow: none;\n",
              "  }\n",
              "\n",
              "  .colab-df-spinner {\n",
              "    border: 2px solid var(--fill-color);\n",
              "    border-color: transparent;\n",
              "    border-bottom-color: var(--fill-color);\n",
              "    animation:\n",
              "      spin 1s steps(1) infinite;\n",
              "  }\n",
              "\n",
              "  @keyframes spin {\n",
              "    0% {\n",
              "      border-color: transparent;\n",
              "      border-bottom-color: var(--fill-color);\n",
              "      border-left-color: var(--fill-color);\n",
              "    }\n",
              "    20% {\n",
              "      border-color: transparent;\n",
              "      border-left-color: var(--fill-color);\n",
              "      border-top-color: var(--fill-color);\n",
              "    }\n",
              "    30% {\n",
              "      border-color: transparent;\n",
              "      border-left-color: var(--fill-color);\n",
              "      border-top-color: var(--fill-color);\n",
              "      border-right-color: var(--fill-color);\n",
              "    }\n",
              "    40% {\n",
              "      border-color: transparent;\n",
              "      border-right-color: var(--fill-color);\n",
              "      border-top-color: var(--fill-color);\n",
              "    }\n",
              "    60% {\n",
              "      border-color: transparent;\n",
              "      border-right-color: var(--fill-color);\n",
              "    }\n",
              "    80% {\n",
              "      border-color: transparent;\n",
              "      border-right-color: var(--fill-color);\n",
              "      border-bottom-color: var(--fill-color);\n",
              "    }\n",
              "    90% {\n",
              "      border-color: transparent;\n",
              "      border-bottom-color: var(--fill-color);\n",
              "    }\n",
              "  }\n",
              "</style>\n",
              "\n",
              "  <script>\n",
              "    async function quickchart(key) {\n",
              "      const quickchartButtonEl =\n",
              "        document.querySelector('#' + key + ' button');\n",
              "      quickchartButtonEl.disabled = true;  // To prevent multiple clicks.\n",
              "      quickchartButtonEl.classList.add('colab-df-spinner');\n",
              "      try {\n",
              "        const charts = await google.colab.kernel.invokeFunction(\n",
              "            'suggestCharts', [key], {});\n",
              "      } catch (error) {\n",
              "        console.error('Error during call to suggestCharts:', error);\n",
              "      }\n",
              "      quickchartButtonEl.classList.remove('colab-df-spinner');\n",
              "      quickchartButtonEl.classList.add('colab-df-quickchart-complete');\n",
              "    }\n",
              "    (() => {\n",
              "      let quickchartButtonEl =\n",
              "        document.querySelector('#df-9b584c28-bb3f-4f2e-9f83-c4c84ef9c265 button');\n",
              "      quickchartButtonEl.style.display =\n",
              "        google.colab.kernel.accessAllowed ? 'block' : 'none';\n",
              "    })();\n",
              "  </script>\n",
              "</div>\n",
              "    </div>\n",
              "  </div>\n"
            ]
          },
          "metadata": {},
          "execution_count": 158
        }
      ],
      "source": [
        "encoded_customer_df.describe().T"
      ]
    },
    {
      "cell_type": "code",
      "execution_count": 159,
      "metadata": {
        "id": "4J_ytjkb7bOH",
        "colab": {
          "base_uri": "https://localhost:8080/"
        },
        "outputId": "afc8684a-0152-4d34-a048-6db19188b84b"
      },
      "outputs": [
        {
          "output_type": "execute_result",
          "data": {
            "text/plain": [
              "gender              0\n",
              "SeniorCitizen       0\n",
              "Partner             0\n",
              "Dependents          0\n",
              "tenure              0\n",
              "PhoneService        0\n",
              "MultipleLines       0\n",
              "InternetService     0\n",
              "OnlineSecurity      0\n",
              "OnlineBackup        0\n",
              "DeviceProtection    0\n",
              "TechSupport         0\n",
              "StreamingTV         0\n",
              "StreamingMovies     0\n",
              "Contract            0\n",
              "PaperlessBilling    0\n",
              "PaymentMethod       0\n",
              "MonthlyCharges      0\n",
              "TotalCharges        0\n",
              "Churn               0\n",
              "dtype: int64"
            ]
          },
          "metadata": {},
          "execution_count": 159
        }
      ],
      "source": [
        "encoded_customer_df.isnull().sum()"
      ]
    },
    {
      "cell_type": "code",
      "source": [
        "encoded_customer_df.info()"
      ],
      "metadata": {
        "id": "KwZ3ZvJJoPt4",
        "colab": {
          "base_uri": "https://localhost:8080/"
        },
        "outputId": "8372e212-1352-41a8-f25e-b8c66e440fdd"
      },
      "execution_count": 160,
      "outputs": [
        {
          "output_type": "stream",
          "name": "stdout",
          "text": [
            "<class 'pandas.core.frame.DataFrame'>\n",
            "Int64Index: 7032 entries, 0 to 7042\n",
            "Data columns (total 20 columns):\n",
            " #   Column            Non-Null Count  Dtype  \n",
            "---  ------            --------------  -----  \n",
            " 0   gender            7032 non-null   int64  \n",
            " 1   SeniorCitizen     7032 non-null   int64  \n",
            " 2   Partner           7032 non-null   int64  \n",
            " 3   Dependents        7032 non-null   int64  \n",
            " 4   tenure            7032 non-null   int64  \n",
            " 5   PhoneService      7032 non-null   int64  \n",
            " 6   MultipleLines     7032 non-null   int64  \n",
            " 7   InternetService   7032 non-null   int64  \n",
            " 8   OnlineSecurity    7032 non-null   int64  \n",
            " 9   OnlineBackup      7032 non-null   int64  \n",
            " 10  DeviceProtection  7032 non-null   int64  \n",
            " 11  TechSupport       7032 non-null   int64  \n",
            " 12  StreamingTV       7032 non-null   int64  \n",
            " 13  StreamingMovies   7032 non-null   int64  \n",
            " 14  Contract          7032 non-null   int64  \n",
            " 15  PaperlessBilling  7032 non-null   int64  \n",
            " 16  PaymentMethod     7032 non-null   int64  \n",
            " 17  MonthlyCharges    7032 non-null   float64\n",
            " 18  TotalCharges      7032 non-null   float64\n",
            " 19  Churn             7032 non-null   int64  \n",
            "dtypes: float64(2), int64(18)\n",
            "memory usage: 1.1 MB\n"
          ]
        }
      ]
    },
    {
      "cell_type": "code",
      "execution_count": 161,
      "metadata": {
        "id": "4qPmNcjitbMG"
      },
      "outputs": [],
      "source": [
        "#Initialise the StandardScaler\n",
        "scaler = StandardScaler()\n",
        "\n",
        "#Fit and transform the data\n",
        "X_scaled = scaler.fit_transform(encoded_customer_df)\n"
      ]
    },
    {
      "cell_type": "code",
      "source": [
        "encoded_customer_df.head()"
      ],
      "metadata": {
        "colab": {
          "base_uri": "https://localhost:8080/",
          "height": 226
        },
        "id": "jYpj7B6VLXzq",
        "outputId": "0e14182d-f10c-47ed-8e84-b9ea9f37f3af"
      },
      "execution_count": 162,
      "outputs": [
        {
          "output_type": "execute_result",
          "data": {
            "text/plain": [
              "   gender  SeniorCitizen  Partner  Dependents  tenure  PhoneService  \\\n",
              "0       0              0        0           0       1             0   \n",
              "1       1              0        1           0      34             1   \n",
              "2       1              0        1           0       2             1   \n",
              "3       1              0        1           0      45             0   \n",
              "4       0              0        1           0       2             1   \n",
              "\n",
              "   MultipleLines  InternetService  OnlineSecurity  OnlineBackup  \\\n",
              "0              0                0               0             0   \n",
              "1              1                0               1             1   \n",
              "2              1                0               1             0   \n",
              "3              0                0               1             1   \n",
              "4              1                1               0             1   \n",
              "\n",
              "   DeviceProtection  TechSupport  StreamingTV  StreamingMovies  Contract  \\\n",
              "0                 0            0            0                0         0   \n",
              "1                 1            0            0                0         1   \n",
              "2                 0            0            0                0         0   \n",
              "3                 1            1            0                0         1   \n",
              "4                 0            0            0                0         0   \n",
              "\n",
              "   PaperlessBilling  PaymentMethod  MonthlyCharges  TotalCharges  Churn  \n",
              "0                 0              0           29.85         29.85      0  \n",
              "1                 1              1           56.95       1889.50      0  \n",
              "2                 0              1           53.85        108.15      1  \n",
              "3                 1              2           42.30       1840.75      0  \n",
              "4                 0              0           70.70        151.65      1  "
            ],
            "text/html": [
              "\n",
              "  <div id=\"df-5888c52c-44fe-4f7e-94af-4d3c85afa286\" class=\"colab-df-container\">\n",
              "    <div>\n",
              "<style scoped>\n",
              "    .dataframe tbody tr th:only-of-type {\n",
              "        vertical-align: middle;\n",
              "    }\n",
              "\n",
              "    .dataframe tbody tr th {\n",
              "        vertical-align: top;\n",
              "    }\n",
              "\n",
              "    .dataframe thead th {\n",
              "        text-align: right;\n",
              "    }\n",
              "</style>\n",
              "<table border=\"1\" class=\"dataframe\">\n",
              "  <thead>\n",
              "    <tr style=\"text-align: right;\">\n",
              "      <th></th>\n",
              "      <th>gender</th>\n",
              "      <th>SeniorCitizen</th>\n",
              "      <th>Partner</th>\n",
              "      <th>Dependents</th>\n",
              "      <th>tenure</th>\n",
              "      <th>PhoneService</th>\n",
              "      <th>MultipleLines</th>\n",
              "      <th>InternetService</th>\n",
              "      <th>OnlineSecurity</th>\n",
              "      <th>OnlineBackup</th>\n",
              "      <th>DeviceProtection</th>\n",
              "      <th>TechSupport</th>\n",
              "      <th>StreamingTV</th>\n",
              "      <th>StreamingMovies</th>\n",
              "      <th>Contract</th>\n",
              "      <th>PaperlessBilling</th>\n",
              "      <th>PaymentMethod</th>\n",
              "      <th>MonthlyCharges</th>\n",
              "      <th>TotalCharges</th>\n",
              "      <th>Churn</th>\n",
              "    </tr>\n",
              "  </thead>\n",
              "  <tbody>\n",
              "    <tr>\n",
              "      <th>0</th>\n",
              "      <td>0</td>\n",
              "      <td>0</td>\n",
              "      <td>0</td>\n",
              "      <td>0</td>\n",
              "      <td>1</td>\n",
              "      <td>0</td>\n",
              "      <td>0</td>\n",
              "      <td>0</td>\n",
              "      <td>0</td>\n",
              "      <td>0</td>\n",
              "      <td>0</td>\n",
              "      <td>0</td>\n",
              "      <td>0</td>\n",
              "      <td>0</td>\n",
              "      <td>0</td>\n",
              "      <td>0</td>\n",
              "      <td>0</td>\n",
              "      <td>29.85</td>\n",
              "      <td>29.85</td>\n",
              "      <td>0</td>\n",
              "    </tr>\n",
              "    <tr>\n",
              "      <th>1</th>\n",
              "      <td>1</td>\n",
              "      <td>0</td>\n",
              "      <td>1</td>\n",
              "      <td>0</td>\n",
              "      <td>34</td>\n",
              "      <td>1</td>\n",
              "      <td>1</td>\n",
              "      <td>0</td>\n",
              "      <td>1</td>\n",
              "      <td>1</td>\n",
              "      <td>1</td>\n",
              "      <td>0</td>\n",
              "      <td>0</td>\n",
              "      <td>0</td>\n",
              "      <td>1</td>\n",
              "      <td>1</td>\n",
              "      <td>1</td>\n",
              "      <td>56.95</td>\n",
              "      <td>1889.50</td>\n",
              "      <td>0</td>\n",
              "    </tr>\n",
              "    <tr>\n",
              "      <th>2</th>\n",
              "      <td>1</td>\n",
              "      <td>0</td>\n",
              "      <td>1</td>\n",
              "      <td>0</td>\n",
              "      <td>2</td>\n",
              "      <td>1</td>\n",
              "      <td>1</td>\n",
              "      <td>0</td>\n",
              "      <td>1</td>\n",
              "      <td>0</td>\n",
              "      <td>0</td>\n",
              "      <td>0</td>\n",
              "      <td>0</td>\n",
              "      <td>0</td>\n",
              "      <td>0</td>\n",
              "      <td>0</td>\n",
              "      <td>1</td>\n",
              "      <td>53.85</td>\n",
              "      <td>108.15</td>\n",
              "      <td>1</td>\n",
              "    </tr>\n",
              "    <tr>\n",
              "      <th>3</th>\n",
              "      <td>1</td>\n",
              "      <td>0</td>\n",
              "      <td>1</td>\n",
              "      <td>0</td>\n",
              "      <td>45</td>\n",
              "      <td>0</td>\n",
              "      <td>0</td>\n",
              "      <td>0</td>\n",
              "      <td>1</td>\n",
              "      <td>1</td>\n",
              "      <td>1</td>\n",
              "      <td>1</td>\n",
              "      <td>0</td>\n",
              "      <td>0</td>\n",
              "      <td>1</td>\n",
              "      <td>1</td>\n",
              "      <td>2</td>\n",
              "      <td>42.30</td>\n",
              "      <td>1840.75</td>\n",
              "      <td>0</td>\n",
              "    </tr>\n",
              "    <tr>\n",
              "      <th>4</th>\n",
              "      <td>0</td>\n",
              "      <td>0</td>\n",
              "      <td>1</td>\n",
              "      <td>0</td>\n",
              "      <td>2</td>\n",
              "      <td>1</td>\n",
              "      <td>1</td>\n",
              "      <td>1</td>\n",
              "      <td>0</td>\n",
              "      <td>1</td>\n",
              "      <td>0</td>\n",
              "      <td>0</td>\n",
              "      <td>0</td>\n",
              "      <td>0</td>\n",
              "      <td>0</td>\n",
              "      <td>0</td>\n",
              "      <td>0</td>\n",
              "      <td>70.70</td>\n",
              "      <td>151.65</td>\n",
              "      <td>1</td>\n",
              "    </tr>\n",
              "  </tbody>\n",
              "</table>\n",
              "</div>\n",
              "    <div class=\"colab-df-buttons\">\n",
              "\n",
              "  <div class=\"colab-df-container\">\n",
              "    <button class=\"colab-df-convert\" onclick=\"convertToInteractive('df-5888c52c-44fe-4f7e-94af-4d3c85afa286')\"\n",
              "            title=\"Convert this dataframe to an interactive table.\"\n",
              "            style=\"display:none;\">\n",
              "\n",
              "  <svg xmlns=\"http://www.w3.org/2000/svg\" height=\"24px\" viewBox=\"0 -960 960 960\">\n",
              "    <path d=\"M120-120v-720h720v720H120Zm60-500h600v-160H180v160Zm220 220h160v-160H400v160Zm0 220h160v-160H400v160ZM180-400h160v-160H180v160Zm440 0h160v-160H620v160ZM180-180h160v-160H180v160Zm440 0h160v-160H620v160Z\"/>\n",
              "  </svg>\n",
              "    </button>\n",
              "\n",
              "  <style>\n",
              "    .colab-df-container {\n",
              "      display:flex;\n",
              "      gap: 12px;\n",
              "    }\n",
              "\n",
              "    .colab-df-convert {\n",
              "      background-color: #E8F0FE;\n",
              "      border: none;\n",
              "      border-radius: 50%;\n",
              "      cursor: pointer;\n",
              "      display: none;\n",
              "      fill: #1967D2;\n",
              "      height: 32px;\n",
              "      padding: 0 0 0 0;\n",
              "      width: 32px;\n",
              "    }\n",
              "\n",
              "    .colab-df-convert:hover {\n",
              "      background-color: #E2EBFA;\n",
              "      box-shadow: 0px 1px 2px rgba(60, 64, 67, 0.3), 0px 1px 3px 1px rgba(60, 64, 67, 0.15);\n",
              "      fill: #174EA6;\n",
              "    }\n",
              "\n",
              "    .colab-df-buttons div {\n",
              "      margin-bottom: 4px;\n",
              "    }\n",
              "\n",
              "    [theme=dark] .colab-df-convert {\n",
              "      background-color: #3B4455;\n",
              "      fill: #D2E3FC;\n",
              "    }\n",
              "\n",
              "    [theme=dark] .colab-df-convert:hover {\n",
              "      background-color: #434B5C;\n",
              "      box-shadow: 0px 1px 3px 1px rgba(0, 0, 0, 0.15);\n",
              "      filter: drop-shadow(0px 1px 2px rgba(0, 0, 0, 0.3));\n",
              "      fill: #FFFFFF;\n",
              "    }\n",
              "  </style>\n",
              "\n",
              "    <script>\n",
              "      const buttonEl =\n",
              "        document.querySelector('#df-5888c52c-44fe-4f7e-94af-4d3c85afa286 button.colab-df-convert');\n",
              "      buttonEl.style.display =\n",
              "        google.colab.kernel.accessAllowed ? 'block' : 'none';\n",
              "\n",
              "      async function convertToInteractive(key) {\n",
              "        const element = document.querySelector('#df-5888c52c-44fe-4f7e-94af-4d3c85afa286');\n",
              "        const dataTable =\n",
              "          await google.colab.kernel.invokeFunction('convertToInteractive',\n",
              "                                                    [key], {});\n",
              "        if (!dataTable) return;\n",
              "\n",
              "        const docLinkHtml = 'Like what you see? Visit the ' +\n",
              "          '<a target=\"_blank\" href=https://colab.research.google.com/notebooks/data_table.ipynb>data table notebook</a>'\n",
              "          + ' to learn more about interactive tables.';\n",
              "        element.innerHTML = '';\n",
              "        dataTable['output_type'] = 'display_data';\n",
              "        await google.colab.output.renderOutput(dataTable, element);\n",
              "        const docLink = document.createElement('div');\n",
              "        docLink.innerHTML = docLinkHtml;\n",
              "        element.appendChild(docLink);\n",
              "      }\n",
              "    </script>\n",
              "  </div>\n",
              "\n",
              "\n",
              "<div id=\"df-a5317ddc-6239-4fd7-a5dd-733f33a98a7e\">\n",
              "  <button class=\"colab-df-quickchart\" onclick=\"quickchart('df-a5317ddc-6239-4fd7-a5dd-733f33a98a7e')\"\n",
              "            title=\"Suggest charts\"\n",
              "            style=\"display:none;\">\n",
              "\n",
              "<svg xmlns=\"http://www.w3.org/2000/svg\" height=\"24px\"viewBox=\"0 0 24 24\"\n",
              "     width=\"24px\">\n",
              "    <g>\n",
              "        <path d=\"M19 3H5c-1.1 0-2 .9-2 2v14c0 1.1.9 2 2 2h14c1.1 0 2-.9 2-2V5c0-1.1-.9-2-2-2zM9 17H7v-7h2v7zm4 0h-2V7h2v10zm4 0h-2v-4h2v4z\"/>\n",
              "    </g>\n",
              "</svg>\n",
              "  </button>\n",
              "\n",
              "<style>\n",
              "  .colab-df-quickchart {\n",
              "      --bg-color: #E8F0FE;\n",
              "      --fill-color: #1967D2;\n",
              "      --hover-bg-color: #E2EBFA;\n",
              "      --hover-fill-color: #174EA6;\n",
              "      --disabled-fill-color: #AAA;\n",
              "      --disabled-bg-color: #DDD;\n",
              "  }\n",
              "\n",
              "  [theme=dark] .colab-df-quickchart {\n",
              "      --bg-color: #3B4455;\n",
              "      --fill-color: #D2E3FC;\n",
              "      --hover-bg-color: #434B5C;\n",
              "      --hover-fill-color: #FFFFFF;\n",
              "      --disabled-bg-color: #3B4455;\n",
              "      --disabled-fill-color: #666;\n",
              "  }\n",
              "\n",
              "  .colab-df-quickchart {\n",
              "    background-color: var(--bg-color);\n",
              "    border: none;\n",
              "    border-radius: 50%;\n",
              "    cursor: pointer;\n",
              "    display: none;\n",
              "    fill: var(--fill-color);\n",
              "    height: 32px;\n",
              "    padding: 0;\n",
              "    width: 32px;\n",
              "  }\n",
              "\n",
              "  .colab-df-quickchart:hover {\n",
              "    background-color: var(--hover-bg-color);\n",
              "    box-shadow: 0 1px 2px rgba(60, 64, 67, 0.3), 0 1px 3px 1px rgba(60, 64, 67, 0.15);\n",
              "    fill: var(--button-hover-fill-color);\n",
              "  }\n",
              "\n",
              "  .colab-df-quickchart-complete:disabled,\n",
              "  .colab-df-quickchart-complete:disabled:hover {\n",
              "    background-color: var(--disabled-bg-color);\n",
              "    fill: var(--disabled-fill-color);\n",
              "    box-shadow: none;\n",
              "  }\n",
              "\n",
              "  .colab-df-spinner {\n",
              "    border: 2px solid var(--fill-color);\n",
              "    border-color: transparent;\n",
              "    border-bottom-color: var(--fill-color);\n",
              "    animation:\n",
              "      spin 1s steps(1) infinite;\n",
              "  }\n",
              "\n",
              "  @keyframes spin {\n",
              "    0% {\n",
              "      border-color: transparent;\n",
              "      border-bottom-color: var(--fill-color);\n",
              "      border-left-color: var(--fill-color);\n",
              "    }\n",
              "    20% {\n",
              "      border-color: transparent;\n",
              "      border-left-color: var(--fill-color);\n",
              "      border-top-color: var(--fill-color);\n",
              "    }\n",
              "    30% {\n",
              "      border-color: transparent;\n",
              "      border-left-color: var(--fill-color);\n",
              "      border-top-color: var(--fill-color);\n",
              "      border-right-color: var(--fill-color);\n",
              "    }\n",
              "    40% {\n",
              "      border-color: transparent;\n",
              "      border-right-color: var(--fill-color);\n",
              "      border-top-color: var(--fill-color);\n",
              "    }\n",
              "    60% {\n",
              "      border-color: transparent;\n",
              "      border-right-color: var(--fill-color);\n",
              "    }\n",
              "    80% {\n",
              "      border-color: transparent;\n",
              "      border-right-color: var(--fill-color);\n",
              "      border-bottom-color: var(--fill-color);\n",
              "    }\n",
              "    90% {\n",
              "      border-color: transparent;\n",
              "      border-bottom-color: var(--fill-color);\n",
              "    }\n",
              "  }\n",
              "</style>\n",
              "\n",
              "  <script>\n",
              "    async function quickchart(key) {\n",
              "      const quickchartButtonEl =\n",
              "        document.querySelector('#' + key + ' button');\n",
              "      quickchartButtonEl.disabled = true;  // To prevent multiple clicks.\n",
              "      quickchartButtonEl.classList.add('colab-df-spinner');\n",
              "      try {\n",
              "        const charts = await google.colab.kernel.invokeFunction(\n",
              "            'suggestCharts', [key], {});\n",
              "      } catch (error) {\n",
              "        console.error('Error during call to suggestCharts:', error);\n",
              "      }\n",
              "      quickchartButtonEl.classList.remove('colab-df-spinner');\n",
              "      quickchartButtonEl.classList.add('colab-df-quickchart-complete');\n",
              "    }\n",
              "    (() => {\n",
              "      let quickchartButtonEl =\n",
              "        document.querySelector('#df-a5317ddc-6239-4fd7-a5dd-733f33a98a7e button');\n",
              "      quickchartButtonEl.style.display =\n",
              "        google.colab.kernel.accessAllowed ? 'block' : 'none';\n",
              "    })();\n",
              "  </script>\n",
              "</div>\n",
              "    </div>\n",
              "  </div>\n"
            ]
          },
          "metadata": {},
          "execution_count": 162
        }
      ]
    },
    {
      "cell_type": "markdown",
      "metadata": {
        "id": "WLJmv4lG-AAH"
      },
      "source": [
        "\n",
        "\n",
        "**Using feature importance to extract relevant features**"
      ]
    },
    {
      "cell_type": "code",
      "execution_count": 163,
      "metadata": {
        "id": "DLCI_YZZr5GY"
      },
      "outputs": [],
      "source": [
        "x= encoded_customer_df.drop('Churn', axis=1)  # Features\n",
        "y = encoded_customer_df['Churn']  # The target variable"
      ]
    },
    {
      "cell_type": "code",
      "execution_count": 164,
      "metadata": {
        "id": "qjoCeyaPoen4"
      },
      "outputs": [],
      "source": [
        "X_train, X_test, y_train, y_test = train_test_split(x, y, test_size=0.3, random_state=42)"
      ]
    },
    {
      "cell_type": "code",
      "source": [
        "model = RandomForestClassifier()\n",
        "model.fit(x, y)"
      ],
      "metadata": {
        "id": "PlFutakbo5SZ",
        "colab": {
          "base_uri": "https://localhost:8080/",
          "height": 74
        },
        "outputId": "b6793b3a-94fd-490f-8795-5ed2c6887bb1"
      },
      "execution_count": 165,
      "outputs": [
        {
          "output_type": "execute_result",
          "data": {
            "text/plain": [
              "RandomForestClassifier()"
            ],
            "text/html": [
              "<style>#sk-container-id-3 {color: black;background-color: white;}#sk-container-id-3 pre{padding: 0;}#sk-container-id-3 div.sk-toggleable {background-color: white;}#sk-container-id-3 label.sk-toggleable__label {cursor: pointer;display: block;width: 100%;margin-bottom: 0;padding: 0.3em;box-sizing: border-box;text-align: center;}#sk-container-id-3 label.sk-toggleable__label-arrow:before {content: \"▸\";float: left;margin-right: 0.25em;color: #696969;}#sk-container-id-3 label.sk-toggleable__label-arrow:hover:before {color: black;}#sk-container-id-3 div.sk-estimator:hover label.sk-toggleable__label-arrow:before {color: black;}#sk-container-id-3 div.sk-toggleable__content {max-height: 0;max-width: 0;overflow: hidden;text-align: left;background-color: #f0f8ff;}#sk-container-id-3 div.sk-toggleable__content pre {margin: 0.2em;color: black;border-radius: 0.25em;background-color: #f0f8ff;}#sk-container-id-3 input.sk-toggleable__control:checked~div.sk-toggleable__content {max-height: 200px;max-width: 100%;overflow: auto;}#sk-container-id-3 input.sk-toggleable__control:checked~label.sk-toggleable__label-arrow:before {content: \"▾\";}#sk-container-id-3 div.sk-estimator input.sk-toggleable__control:checked~label.sk-toggleable__label {background-color: #d4ebff;}#sk-container-id-3 div.sk-label input.sk-toggleable__control:checked~label.sk-toggleable__label {background-color: #d4ebff;}#sk-container-id-3 input.sk-hidden--visually {border: 0;clip: rect(1px 1px 1px 1px);clip: rect(1px, 1px, 1px, 1px);height: 1px;margin: -1px;overflow: hidden;padding: 0;position: absolute;width: 1px;}#sk-container-id-3 div.sk-estimator {font-family: monospace;background-color: #f0f8ff;border: 1px dotted black;border-radius: 0.25em;box-sizing: border-box;margin-bottom: 0.5em;}#sk-container-id-3 div.sk-estimator:hover {background-color: #d4ebff;}#sk-container-id-3 div.sk-parallel-item::after {content: \"\";width: 100%;border-bottom: 1px solid gray;flex-grow: 1;}#sk-container-id-3 div.sk-label:hover label.sk-toggleable__label {background-color: #d4ebff;}#sk-container-id-3 div.sk-serial::before {content: \"\";position: absolute;border-left: 1px solid gray;box-sizing: border-box;top: 0;bottom: 0;left: 50%;z-index: 0;}#sk-container-id-3 div.sk-serial {display: flex;flex-direction: column;align-items: center;background-color: white;padding-right: 0.2em;padding-left: 0.2em;position: relative;}#sk-container-id-3 div.sk-item {position: relative;z-index: 1;}#sk-container-id-3 div.sk-parallel {display: flex;align-items: stretch;justify-content: center;background-color: white;position: relative;}#sk-container-id-3 div.sk-item::before, #sk-container-id-3 div.sk-parallel-item::before {content: \"\";position: absolute;border-left: 1px solid gray;box-sizing: border-box;top: 0;bottom: 0;left: 50%;z-index: -1;}#sk-container-id-3 div.sk-parallel-item {display: flex;flex-direction: column;z-index: 1;position: relative;background-color: white;}#sk-container-id-3 div.sk-parallel-item:first-child::after {align-self: flex-end;width: 50%;}#sk-container-id-3 div.sk-parallel-item:last-child::after {align-self: flex-start;width: 50%;}#sk-container-id-3 div.sk-parallel-item:only-child::after {width: 0;}#sk-container-id-3 div.sk-dashed-wrapped {border: 1px dashed gray;margin: 0 0.4em 0.5em 0.4em;box-sizing: border-box;padding-bottom: 0.4em;background-color: white;}#sk-container-id-3 div.sk-label label {font-family: monospace;font-weight: bold;display: inline-block;line-height: 1.2em;}#sk-container-id-3 div.sk-label-container {text-align: center;}#sk-container-id-3 div.sk-container {/* jupyter's `normalize.less` sets `[hidden] { display: none; }` but bootstrap.min.css set `[hidden] { display: none !important; }` so we also need the `!important` here to be able to override the default hidden behavior on the sphinx rendered scikit-learn.org. See: https://github.com/scikit-learn/scikit-learn/issues/21755 */display: inline-block !important;position: relative;}#sk-container-id-3 div.sk-text-repr-fallback {display: none;}</style><div id=\"sk-container-id-3\" class=\"sk-top-container\"><div class=\"sk-text-repr-fallback\"><pre>RandomForestClassifier()</pre><b>In a Jupyter environment, please rerun this cell to show the HTML representation or trust the notebook. <br />On GitHub, the HTML representation is unable to render, please try loading this page with nbviewer.org.</b></div><div class=\"sk-container\" hidden><div class=\"sk-item\"><div class=\"sk-estimator sk-toggleable\"><input class=\"sk-toggleable__control sk-hidden--visually\" id=\"sk-estimator-id-3\" type=\"checkbox\" checked><label for=\"sk-estimator-id-3\" class=\"sk-toggleable__label sk-toggleable__label-arrow\">RandomForestClassifier</label><div class=\"sk-toggleable__content\"><pre>RandomForestClassifier()</pre></div></div></div></div></div>"
            ]
          },
          "metadata": {},
          "execution_count": 165
        }
      ]
    },
    {
      "cell_type": "code",
      "source": [
        "feature_importance_ = model.feature_importances_"
      ],
      "metadata": {
        "id": "fRCOEoTpo-t_"
      },
      "execution_count": 166,
      "outputs": []
    },
    {
      "cell_type": "code",
      "source": [
        "# CreatDataFrame to store feature names and their importance scores\n",
        "f_importance_df = pd.DataFrame({'Feature': x.columns, 'Importance': feature_importance_})\n",
        "\n",
        "# Sort the features by importance in descending order\n",
        "f_importance_df = f_importance_df.sort_values(by='Importance', ascending=False)\n"
      ],
      "metadata": {
        "id": "aVgbIuLGpV9-"
      },
      "execution_count": 167,
      "outputs": []
    },
    {
      "cell_type": "code",
      "execution_count": 168,
      "metadata": {
        "id": "1iozu6pj4QoD",
        "colab": {
          "base_uri": "https://localhost:8080/"
        },
        "outputId": "1943832a-3be5-4458-8437-ad6b9d3aaa00"
      },
      "outputs": [
        {
          "output_type": "stream",
          "name": "stdout",
          "text": [
            "18      TotalCharges\n",
            "17    MonthlyCharges\n",
            "4             tenure\n",
            "14          Contract\n",
            "16     PaymentMethod\n",
            "Name: Feature, dtype: object\n"
          ]
        }
      ],
      "source": [
        "# Print the top 5 relevant features\n",
        "imp = 5\n",
        "relevant_features = f_importance_df['Feature'][:imp]\n",
        "print(relevant_features)\n"
      ]
    },
    {
      "cell_type": "markdown",
      "metadata": {
        "id": "K6lWCWWm7ruI"
      },
      "source": [
        "**Exploratory Data Analysis**"
      ]
    },
    {
      "cell_type": "code",
      "execution_count": 169,
      "metadata": {
        "id": "LgyQZha2NMOt"
      },
      "outputs": [],
      "source": [
        "# Number 2\n",
        "#Using the features extracted by the feature importance, lets view how they relate to churning"
      ]
    },
    {
      "cell_type": "markdown",
      "metadata": {
        "id": "v2GVYkSnvTHo"
      },
      "source": [
        "\n",
        "**Distribution of Churn**"
      ]
    },
    {
      "cell_type": "markdown",
      "source": [
        "*    0 represents no churn and 1 represents churn."
      ],
      "metadata": {
        "id": "ZJmwoXOJSgms"
      }
    },
    {
      "cell_type": "code",
      "execution_count": 170,
      "metadata": {
        "id": "Oln61CtCF2cp",
        "colab": {
          "base_uri": "https://localhost:8080/",
          "height": 428
        },
        "outputId": "7fa496ed-ba26-473a-de11-86f301e3bedd"
      },
      "outputs": [
        {
          "output_type": "display_data",
          "data": {
            "text/plain": [
              "<Figure size 640x480 with 1 Axes>"
            ],
            "image/png": "[encoded data removed]"
          },
          "metadata": {}
        }
      ],
      "source": [
        "# Count the distribution of 'Churn' values in the DataFrame\n",
        "churn_distribution = df['Churn'].value_counts()\n",
        "\n",
        "# Extract labels and sizes for pie chart\n",
        "labels = churn_distribution.index\n",
        "sizes = churn_distribution.values\n",
        "\n",
        "# Create a pie chart to visualize the distribution of 'Churn'\n",
        "plt.pie(sizes, labels=labels, autopct='%1.1f%%', startangle=90)\n",
        "plt.title('Distribution of Churn')\n",
        "\n",
        "# Display the pie chart\n",
        "plt.show()\n"
      ]
    },
    {
      "cell_type": "markdown",
      "source": [
        "There are less number of people in the company who have churned"
      ],
      "metadata": {
        "id": "qb-f5g0-NxYU"
      }
    },
    {
      "cell_type": "markdown",
      "metadata": {
        "id": "D8B0gM1RvWRp"
      },
      "source": [
        "**Relationship of Gender and Churn**"
      ]
    },
    {
      "cell_type": "code",
      "execution_count": 171,
      "metadata": {
        "id": "R9Th2hypr0NU",
        "colab": {
          "base_uri": "https://localhost:8080/",
          "height": 428
        },
        "outputId": "776df423-b9eb-4319-f18f-c3e323d91524"
      },
      "outputs": [
        {
          "output_type": "display_data",
          "data": {
            "text/plain": [
              "<Figure size 640x480 with 1 Axes>"
            ],
            "image/png": "[encoded data removed]"
          },
          "metadata": {}
        }
      ],
      "source": [
        "# Count the occurrences of each combination of 'Gender' and 'Churn'\n",
        "churn_gender_counts = df.groupby(['gender', 'Churn']).size().unstack()\n",
        "\n",
        "colors = ['hotpink', 'skyblue']\n",
        "labels = ['No Churn', 'Churn']\n",
        "\n",
        "# Creating a pie chart\n",
        "plt.pie(churn_gender_counts.sum(axis=1), labels=churn_gender_counts.index, autopct='%1.1f%%', startangle=90, colors=colors)\n",
        "plt.title('Churn Distribution by Gender')\n",
        "plt.legend(labels, loc='upper right')\n",
        "plt.axis('equal')\n",
        "plt.show()"
      ]
    },
    {
      "cell_type": "markdown",
      "metadata": {
        "id": "VEeGsU7_42Nz"
      },
      "source": [
        "\n",
        "\n",
        "*  The pie chart is split evenly between the two genders, with 50.5% of churners being female and 49.5% being male. This means that there is no significant difference in churn rate between men and women.\n",
        "\n",
        "\n"
      ]
    },
    {
      "cell_type": "markdown",
      "metadata": {
        "id": "wYwI9Xhvvcds"
      },
      "source": [
        "**Relationship between Multiple Lines and Churn**\n",
        "\n"
      ]
    },
    {
      "cell_type": "code",
      "execution_count": 172,
      "metadata": {
        "id": "UY6nE9THsXkA",
        "colab": {
          "base_uri": "https://localhost:8080/",
          "height": 591
        },
        "outputId": "b361f777-13bd-4fac-82fe-df47efa9acd2"
      },
      "outputs": [
        {
          "output_type": "execute_result",
          "data": {
            "text/plain": [
              "Text(0.5, 1.0, 'Relationship between Multiple Lines and Churn')"
            ]
          },
          "metadata": {},
          "execution_count": 172
        },
        {
          "output_type": "display_data",
          "data": {
            "text/plain": [
              "<Figure size 1200x600 with 1 Axes>"
            ],
            "image/png": "[encoded data removed]"
          },
          "metadata": {}
        }
      ],
      "source": [
        "# Set style of seaborn\n",
        "sns.set(style=\"whitegrid\")\n",
        "\n",
        "# Create a barplot\n",
        "plt.figure(figsize=(12, 6))\n",
        "sns.barplot(x=\"Churn\", y=\"MultipleLines\", data=encoded_customer_df, palette=\"viridis\")\n",
        "\n",
        "# Add labels and title\n",
        "plt.xlabel(\"Churn\")\n",
        "plt.ylabel(\"MultipleLines\")\n",
        "plt.title(\"Relationship between Multiple Lines and Churn\")\n"
      ]
    },
    {
      "cell_type": "markdown",
      "metadata": {
        "id": "vUv61dUA5WFn"
      },
      "source": [
        "\n",
        "\n",
        "*    This means that customers who have multiple lines are more likely to churn.\n",
        "\n"
      ]
    },
    {
      "cell_type": "markdown",
      "metadata": {
        "id": "DiAVVb4axL97"
      },
      "source": [
        "**Relationship Between Total Charges and Churn**"
      ]
    },
    {
      "cell_type": "code",
      "execution_count": 173,
      "metadata": {
        "id": "Zdy5dm1pu9sJ",
        "colab": {
          "base_uri": "https://localhost:8080/",
          "height": 573
        },
        "outputId": "75946381-2766-4cb3-ac48-e812747605f8"
      },
      "outputs": [
        {
          "output_type": "display_data",
          "data": {
            "text/plain": [
              "<Figure size 1000x600 with 1 Axes>"
            ],
            "image/png": "[encoded data removed]"
          },
          "metadata": {}
        }
      ],
      "source": [
        "# Create a boxplot\n",
        "plt.figure(figsize=(10, 6))\n",
        "sns.boxplot(x='Churn', y='TotalCharges', data=encoded_customer_df, palette='viridis')\n",
        "\n",
        "# Add title and labels\n",
        "plt.title(\"Total Charges Distribution by Churn\")\n",
        "plt.xlabel(\"Churn\")\n",
        "plt.ylabel(\"Total Charges\")\n",
        "\n",
        "plt.show()"
      ]
    },
    {
      "cell_type": "markdown",
      "source": [
        "Customers with low total charges may be more likely to churn"
      ],
      "metadata": {
        "id": "2TrFF2REPoXE"
      }
    },
    {
      "cell_type": "markdown",
      "metadata": {
        "id": "VMTFGp1avv8V"
      },
      "source": [
        "**Relationship between Monthly Charges and Churn**"
      ]
    },
    {
      "cell_type": "code",
      "execution_count": 174,
      "metadata": {
        "id": "Yd3-KYUEw1zf",
        "colab": {
          "base_uri": "https://localhost:8080/",
          "height": 650
        },
        "outputId": "794b0964-d627-4172-b627-915f9c18cfd4"
      },
      "outputs": [
        {
          "output_type": "display_data",
          "data": {
            "text/plain": [
              "<Figure size 1200x700 with 1 Axes>"
            ],
            "image/png": "[encoded data removed]"
          },
          "metadata": {}
        }
      ],
      "source": [
        "# Create a boxplot\n",
        "plt.figure(figsize=(12, 7))\n",
        "sns.boxplot(x='Churn', y='MonthlyCharges', data=encoded_customer_df, palette='viridis')\n",
        "\n",
        "# Add title and labels\n",
        "plt.title(\"Monthly Charges Distribution by Churn\")\n",
        "plt.xlabel(\"Churn\")\n",
        "plt.ylabel(\"Monthly Charges\")\n",
        "\n",
        "plt.show()"
      ]
    },
    {
      "cell_type": "markdown",
      "source": [
        "Customers with higher monthly charges are more likey to churn"
      ],
      "metadata": {
        "id": "UNJ6scS7R8O_"
      }
    },
    {
      "cell_type": "markdown",
      "source": [
        "**Relationship between Contract and Churn**"
      ],
      "metadata": {
        "id": "fOucJsJ7SC6I"
      }
    },
    {
      "cell_type": "code",
      "execution_count": 175,
      "metadata": {
        "id": "RQZMlCdZuA6c",
        "colab": {
          "base_uri": "https://localhost:8080/",
          "height": 573
        },
        "outputId": "73bb7e99-d01e-4b51-cf06-99113a519b31"
      },
      "outputs": [
        {
          "output_type": "display_data",
          "data": {
            "text/plain": [
              "<Figure size 1000x600 with 1 Axes>"
            ],
            "image/png": "[encoded data removed]"
          },
          "metadata": {}
        }
      ],
      "source": [
        "# Create a count plot\n",
        "plt.figure(figsize=(10, 6))\n",
        "sns.countplot(x='Contract', hue='Churn', data=df, palette='Set1')\n",
        "\n",
        "# Add title and labels\n",
        "plt.title(\"Churn Distribution by Contract\")\n",
        "plt.xlabel(\"Contract\")\n",
        "plt.ylabel(\"Count\")\n",
        "\n",
        "plt.show()"
      ]
    },
    {
      "cell_type": "markdown",
      "source": [
        "From this is clear that customers with short-term contracts are more-likely to churn"
      ],
      "metadata": {
        "id": "9KYU_zuvLJSv"
      }
    },
    {
      "cell_type": "markdown",
      "source": [
        "**Relationship between Payment Method and Churn**"
      ],
      "metadata": {
        "id": "mzixaD56UrYV"
      }
    },
    {
      "cell_type": "code",
      "execution_count": 176,
      "metadata": {
        "id": "FcifhozF2GeN",
        "colab": {
          "base_uri": "https://localhost:8080/",
          "height": 575
        },
        "outputId": "51e77e2f-54cb-4541-82bd-cbb28a3528aa"
      },
      "outputs": [
        {
          "output_type": "display_data",
          "data": {
            "text/plain": [
              "<Figure size 1200x600 with 1 Axes>"
            ],
            "image/png": "[encoded data removed]"
          },
          "metadata": {}
        }
      ],
      "source": [
        "# Create a count plot\n",
        "plt.figure(figsize=(12, 6))\n",
        "sns.countplot(x='PaymentMethod', hue='Churn', data=df, palette='viridis')\n",
        "\n",
        "# Add title and labels\n",
        "plt.title(\"Churn Distribution by Payment Method\")\n",
        "plt.xlabel(\"Payment Method\")\n",
        "plt.ylabel(\"Count\")\n",
        "\n",
        "# Rotate x-axis labels for better readability\n",
        "plt.xticks(rotation=45, ha=\"right\")\n",
        "\n",
        "plt.show()"
      ]
    },
    {
      "cell_type": "markdown",
      "source": [
        "**Relationship between Tenure and Churn**"
      ],
      "metadata": {
        "id": "FEQB_nJdr840"
      }
    },
    {
      "cell_type": "code",
      "source": [
        "plt.figure(figsize=(10, 6))\n",
        "sns.histplot(data=df, x='tenure', hue='Churn', kde=True)\n",
        "plt.title('Histogram of Tenure for Churned and Non-Churned Customers')\n",
        "plt.xlabel('Tenure')\n",
        "plt.ylabel('Count')\n",
        "plt.show()\n"
      ],
      "metadata": {
        "colab": {
          "base_uri": "https://localhost:8080/",
          "height": 573
        },
        "id": "T5pOpAxeRW0C",
        "outputId": "26f9dd54-6883-4ea0-d7a6-521bfc7b6392"
      },
      "execution_count": 177,
      "outputs": [
        {
          "output_type": "display_data",
          "data": {
            "text/plain": [
              "<Figure size 1000x600 with 1 Axes>"
            ],
            "image/png": "[encoded data removed]"
          },
          "metadata": {}
        }
      ]
    },
    {
      "cell_type": "markdown",
      "source": [
        "This image suggests that tenure is a strong predictor of churn. Customers with short tenure are much more likely to churn than customers with long tenure"
      ],
      "metadata": {
        "id": "g5xVjlE4UVYW"
      }
    },
    {
      "cell_type": "markdown",
      "source": [
        "**Relationship between Paperless Billing and Churn**"
      ],
      "metadata": {
        "id": "3n24_cfHSn7K"
      }
    },
    {
      "cell_type": "code",
      "source": [
        "# Set the style for the plots\n",
        "sns.set(style=\"whitegrid\")\n",
        "\n",
        "# Create a count plot\n",
        "plt.figure(figsize=(8, 5))\n",
        "sns.countplot(x='PaperlessBilling', hue='Churn', data=df)\n",
        "plt.title('Count Plot of Churn based on Paperless Billing')\n",
        "plt.xlabel('Paperless Billing')\n",
        "plt.ylabel('Count')\n",
        "plt.show()"
      ],
      "metadata": {
        "colab": {
          "base_uri": "https://localhost:8080/",
          "height": 496
        },
        "id": "JIS_ugJSThYE",
        "outputId": "24c5219f-7d2f-4d76-ce41-402708b3989b"
      },
      "execution_count": 178,
      "outputs": [
        {
          "output_type": "display_data",
          "data": {
            "text/plain": [
              "<Figure size 800x500 with 1 Axes>"
            ],
            "image/png": "[encoded data removed]"
          },
          "metadata": {}
        }
      ]
    },
    {
      "cell_type": "markdown",
      "source": [
        "The chart shows that there are more customers who churned who were using paperless billing than customers who churned who were not using paperless billing"
      ],
      "metadata": {
        "id": "SAxrIC4tVJe2"
      }
    },
    {
      "cell_type": "markdown",
      "source": [
        "**Training the model using Multi-Layer Perceptron with Functional API**\n",
        "\n"
      ],
      "metadata": {
        "id": "RKqqN2p1Q7CO"
      }
    },
    {
      "cell_type": "code",
      "source": [
        "X = encoded_customer_df[relevant_features]\n",
        "y = encoded_customer_df['Churn']"
      ],
      "metadata": {
        "id": "jzBo56XiTHlT"
      },
      "execution_count": 179,
      "outputs": []
    },
    {
      "cell_type": "code",
      "source": [
        "X_train, X_test, y_train, y_test = train_test_split(X, y, test_size=0.2, random_state=42)\n"
      ],
      "metadata": {
        "id": "avm8jvST3YTl"
      },
      "execution_count": 180,
      "outputs": []
    },
    {
      "cell_type": "code",
      "source": [
        "# Define the MLP model using the Functional API with best parameters\n",
        "def create_model(activation='relu', optimizer='adam'):\n",
        "    input_layer = Input(shape=(len(relevant_features),))\n",
        "    hidden1 = Dense(10, activation=activation)(input_layer)\n",
        "    hidden2 = Dense(20, activation=activation)(hidden1)\n",
        "    hidden3 = Dense(10,activation=activation)(hidden2)\n",
        "    output_layer = Dense(1, activation='sigmoid')(hidden3)\n",
        "\n",
        "    model = Model(inputs=input_layer, outputs=output_layer)\n",
        "    model.compile(optimizer=optimizer, loss='binary_crossentropy', metrics=['accuracy'])\n",
        "    return model\n"
      ],
      "metadata": {
        "id": "tiliRqhQoO2h"
      },
      "execution_count": 214,
      "outputs": []
    },
    {
      "cell_type": "markdown",
      "source": [
        "**Training using Cross Validation**"
      ],
      "metadata": {
        "id": "4OOrNfwBUc2e"
      }
    },
    {
      "cell_type": "code",
      "source": [
        "# Create KerasClassifier for scikit-learn compatibility\n",
        "ml = KerasClassifier(build_fn=create_model, epochs=20, batch_size=32, verbose=0)\n",
        "\n",
        "# Define the cross-validation strategy (StratifiedKFold)\n",
        "cv = StratifiedKFold(n_splits=3, shuffle=True, random_state=42)\n"
      ],
      "metadata": {
        "colab": {
          "base_uri": "https://localhost:8080/"
        },
        "id": "g85s1ihCYIRP",
        "outputId": "51198387-ba62-4d36-b6d9-58b13de75cd9"
      },
      "execution_count": 247,
      "outputs": [
        {
          "output_type": "stream",
          "name": "stderr",
          "text": [
            "<ipython-input-247-99a061de405f>:2: DeprecationWarning: KerasClassifier is deprecated, use Sci-Keras (https://github.com/adriangb/scikeras) instead. See https://www.adriangb.com/scikeras/stable/migration.html for help migrating.\n",
            "  ml = KerasClassifier(build_fn=create_model, epochs=20, batch_size=32, verbose=0)\n"
          ]
        }
      ]
    },
    {
      "cell_type": "code",
      "source": [
        "# Perform cross-validation\n",
        "results = cross_val_score(model, X_train, y_train, cv=cv, scoring='accuracy')\n"
      ],
      "metadata": {
        "colab": {
          "base_uri": "https://localhost:8080/"
        },
        "id": "7jXJkzqrYKR6",
        "outputId": "f8ab06c2-4d75-4577-cd48-4b6940d5221a"
      },
      "execution_count": 248,
      "outputs": [
        {
          "output_type": "stream",
          "name": "stdout",
          "text": [
            "Epoch 1/25\n",
            "118/118 [==============================] - 3s 5ms/step - loss: 2.5225 - accuracy: 0.6736\n",
            "Epoch 2/25\n",
            "118/118 [==============================] - 1s 5ms/step - loss: 1.2840 - accuracy: 0.6827\n",
            "Epoch 3/25\n",
            "118/118 [==============================] - 1s 4ms/step - loss: 1.5140 - accuracy: 0.6896\n",
            "Epoch 4/25\n",
            "118/118 [==============================] - 0s 4ms/step - loss: 1.3640 - accuracy: 0.7131\n",
            "Epoch 5/25\n",
            "118/118 [==============================] - 0s 3ms/step - loss: 1.1484 - accuracy: 0.7021\n",
            "Epoch 6/25\n",
            "118/118 [==============================] - 0s 3ms/step - loss: 1.1930 - accuracy: 0.7112\n",
            "Epoch 7/25\n",
            "118/118 [==============================] - 0s 4ms/step - loss: 0.8358 - accuracy: 0.7315\n",
            "Epoch 8/25\n",
            "118/118 [==============================] - 0s 4ms/step - loss: 1.3289 - accuracy: 0.7165\n",
            "Epoch 9/25\n",
            "118/118 [==============================] - 0s 4ms/step - loss: 1.3531 - accuracy: 0.7264\n",
            "Epoch 10/25\n",
            "118/118 [==============================] - 0s 4ms/step - loss: 1.6012 - accuracy: 0.7179\n",
            "Epoch 11/25\n",
            "118/118 [==============================] - 0s 4ms/step - loss: 1.1863 - accuracy: 0.7256\n",
            "Epoch 12/25\n",
            "118/118 [==============================] - 0s 4ms/step - loss: 1.4939 - accuracy: 0.7333\n",
            "Epoch 13/25\n",
            "118/118 [==============================] - 0s 4ms/step - loss: 0.8196 - accuracy: 0.7395\n",
            "Epoch 14/25\n",
            "118/118 [==============================] - 0s 4ms/step - loss: 0.9456 - accuracy: 0.7395\n",
            "Epoch 15/25\n",
            "118/118 [==============================] - 0s 4ms/step - loss: 0.8179 - accuracy: 0.7408\n",
            "Epoch 16/25\n",
            "118/118 [==============================] - 0s 4ms/step - loss: 0.6339 - accuracy: 0.7499\n",
            "Epoch 17/25\n",
            "118/118 [==============================] - 0s 4ms/step - loss: 0.9763 - accuracy: 0.7269\n",
            "Epoch 18/25\n",
            "118/118 [==============================] - 0s 4ms/step - loss: 0.7980 - accuracy: 0.7397\n",
            "Epoch 19/25\n",
            "118/118 [==============================] - 0s 4ms/step - loss: 1.1452 - accuracy: 0.7309\n",
            "Epoch 20/25\n",
            "118/118 [==============================] - 0s 3ms/step - loss: 1.2415 - accuracy: 0.7403\n",
            "Epoch 21/25\n",
            "118/118 [==============================] - 0s 4ms/step - loss: 0.7020 - accuracy: 0.7464\n",
            "Epoch 22/25\n",
            "118/118 [==============================] - 0s 4ms/step - loss: 0.8005 - accuracy: 0.7411\n",
            "Epoch 23/25\n",
            "118/118 [==============================] - 0s 4ms/step - loss: 2.2473 - accuracy: 0.6973\n",
            "Epoch 24/25\n",
            "118/118 [==============================] - 0s 4ms/step - loss: 0.6777 - accuracy: 0.7440\n",
            "Epoch 25/25\n",
            "118/118 [==============================] - 0s 4ms/step - loss: 1.3130 - accuracy: 0.7184\n",
            "59/59 [==============================] - 0s 2ms/step\n",
            "Epoch 1/25\n",
            "118/118 [==============================] - 2s 4ms/step - loss: 1.1821 - accuracy: 0.7000\n",
            "Epoch 2/25\n",
            "118/118 [==============================] - 0s 4ms/step - loss: 0.6560 - accuracy: 0.7301\n",
            "Epoch 3/25\n",
            "118/118 [==============================] - 0s 4ms/step - loss: 0.9394 - accuracy: 0.7197\n",
            "Epoch 4/25\n",
            "118/118 [==============================] - 0s 4ms/step - loss: 0.6829 - accuracy: 0.7299\n",
            "Epoch 5/25\n",
            "118/118 [==============================] - 0s 4ms/step - loss: 0.6589 - accuracy: 0.7341\n",
            "Epoch 6/25\n",
            "118/118 [==============================] - 0s 4ms/step - loss: 0.7868 - accuracy: 0.7379\n",
            "Epoch 7/25\n",
            "118/118 [==============================] - 0s 4ms/step - loss: 0.8683 - accuracy: 0.7376\n",
            "Epoch 8/25\n",
            "118/118 [==============================] - 0s 4ms/step - loss: 0.7079 - accuracy: 0.7387\n",
            "Epoch 9/25\n",
            "118/118 [==============================] - 0s 3ms/step - loss: 0.5943 - accuracy: 0.7573\n",
            "Epoch 10/25\n",
            "118/118 [==============================] - 0s 4ms/step - loss: 0.7306 - accuracy: 0.7488\n",
            "Epoch 11/25\n",
            "118/118 [==============================] - 1s 4ms/step - loss: 0.6614 - accuracy: 0.7539\n",
            "Epoch 12/25\n",
            "118/118 [==============================] - 1s 5ms/step - loss: 0.6051 - accuracy: 0.7632\n",
            "Epoch 13/25\n",
            "118/118 [==============================] - 1s 5ms/step - loss: 0.5568 - accuracy: 0.7627\n",
            "Epoch 14/25\n",
            "118/118 [==============================] - 1s 5ms/step - loss: 0.5823 - accuracy: 0.7696\n",
            "Epoch 15/25\n",
            "118/118 [==============================] - 1s 5ms/step - loss: 0.5970 - accuracy: 0.7656\n",
            "Epoch 16/25\n",
            "118/118 [==============================] - 1s 5ms/step - loss: 0.6597 - accuracy: 0.7520\n",
            "Epoch 17/25\n",
            "118/118 [==============================] - 1s 5ms/step - loss: 0.5619 - accuracy: 0.7701\n",
            "Epoch 18/25\n",
            "118/118 [==============================] - 1s 5ms/step - loss: 0.5780 - accuracy: 0.7699\n",
            "Epoch 19/25\n",
            "118/118 [==============================] - 1s 5ms/step - loss: 0.5404 - accuracy: 0.7776\n",
            "Epoch 20/25\n",
            "118/118 [==============================] - 1s 5ms/step - loss: 0.7307 - accuracy: 0.7541\n",
            "Epoch 21/25\n",
            "118/118 [==============================] - 1s 5ms/step - loss: 0.7544 - accuracy: 0.7461\n",
            "Epoch 22/25\n",
            "118/118 [==============================] - 1s 5ms/step - loss: 0.7717 - accuracy: 0.7605\n",
            "Epoch 23/25\n",
            "118/118 [==============================] - 1s 5ms/step - loss: 0.6849 - accuracy: 0.7651\n",
            "Epoch 24/25\n",
            "118/118 [==============================] - 0s 4ms/step - loss: 0.7497 - accuracy: 0.7520\n",
            "Epoch 25/25\n",
            "118/118 [==============================] - 0s 4ms/step - loss: 0.7834 - accuracy: 0.7541\n",
            "59/59 [==============================] - 0s 2ms/step\n",
            "Epoch 1/25\n",
            "118/118 [==============================] - 2s 4ms/step - loss: 17.7689 - accuracy: 0.7016\n",
            "Epoch 2/25\n",
            "118/118 [==============================] - 1s 5ms/step - loss: 0.6673 - accuracy: 0.7136\n",
            "Epoch 3/25\n",
            "118/118 [==============================] - 1s 5ms/step - loss: 0.8530 - accuracy: 0.7184\n",
            "Epoch 4/25\n",
            "118/118 [==============================] - 1s 5ms/step - loss: 0.7731 - accuracy: 0.7219\n",
            "Epoch 5/25\n",
            "118/118 [==============================] - 1s 5ms/step - loss: 0.8551 - accuracy: 0.7243\n",
            "Epoch 6/25\n",
            "118/118 [==============================] - 1s 5ms/step - loss: 0.6477 - accuracy: 0.7397\n",
            "Epoch 7/25\n",
            "118/118 [==============================] - 1s 5ms/step - loss: 0.6535 - accuracy: 0.7427\n",
            "Epoch 8/25\n",
            "118/118 [==============================] - 1s 5ms/step - loss: 0.5551 - accuracy: 0.7701\n",
            "Epoch 9/25\n",
            "118/118 [==============================] - 1s 6ms/step - loss: 0.6121 - accuracy: 0.7611\n",
            "Epoch 10/25\n",
            "118/118 [==============================] - 1s 5ms/step - loss: 0.5630 - accuracy: 0.7632\n",
            "Epoch 11/25\n",
            "118/118 [==============================] - 1s 5ms/step - loss: 0.6901 - accuracy: 0.7504\n",
            "Epoch 12/25\n",
            "118/118 [==============================] - 1s 5ms/step - loss: 0.6992 - accuracy: 0.7509\n",
            "Epoch 13/25\n",
            "118/118 [==============================] - 1s 5ms/step - loss: 0.7634 - accuracy: 0.7485\n",
            "Epoch 14/25\n",
            "118/118 [==============================] - 0s 4ms/step - loss: 0.7047 - accuracy: 0.7499\n",
            "Epoch 15/25\n",
            "118/118 [==============================] - 0s 4ms/step - loss: 0.5484 - accuracy: 0.7600\n",
            "Epoch 16/25\n",
            "118/118 [==============================] - 0s 4ms/step - loss: 0.6671 - accuracy: 0.7509\n",
            "Epoch 17/25\n",
            "118/118 [==============================] - 0s 4ms/step - loss: 0.6353 - accuracy: 0.7496\n",
            "Epoch 18/25\n",
            "118/118 [==============================] - 0s 4ms/step - loss: 0.5999 - accuracy: 0.7573\n",
            "Epoch 19/25\n",
            "118/118 [==============================] - 0s 4ms/step - loss: 0.6507 - accuracy: 0.7600\n",
            "Epoch 20/25\n",
            "118/118 [==============================] - 0s 4ms/step - loss: 0.6675 - accuracy: 0.7509\n",
            "Epoch 21/25\n",
            "118/118 [==============================] - 0s 3ms/step - loss: 0.5183 - accuracy: 0.7744\n",
            "Epoch 22/25\n",
            "118/118 [==============================] - 0s 4ms/step - loss: 0.4974 - accuracy: 0.7709\n",
            "Epoch 23/25\n",
            "118/118 [==============================] - 0s 4ms/step - loss: 0.6278 - accuracy: 0.7595\n",
            "Epoch 24/25\n",
            "118/118 [==============================] - 0s 4ms/step - loss: 0.4937 - accuracy: 0.7720\n",
            "Epoch 25/25\n",
            "118/118 [==============================] - 1s 8ms/step - loss: 0.5272 - accuracy: 0.7659\n",
            "59/59 [==============================] - 0s 2ms/step\n"
          ]
        }
      ]
    },
    {
      "cell_type": "code",
      "source": [
        "# Print the cross-validation results\n",
        "print(\"Cross-Validation Results:\", results)\n",
        "print(\"Mean Accuracy: {:.2f}%\".format(results.mean() * 100))\n"
      ],
      "metadata": {
        "colab": {
          "base_uri": "https://localhost:8080/"
        },
        "id": "7L1vYl2IUfjn",
        "outputId": "eaf844e0-b95d-4735-dac9-5d15558e5e23"
      },
      "execution_count": 249,
      "outputs": [
        {
          "output_type": "stream",
          "name": "stdout",
          "text": [
            "Cross-Validation Results: [0.78346667 0.74613333 0.79626667]\n",
            "Mean Accuracy: 77.53%\n"
          ]
        }
      ]
    },
    {
      "cell_type": "markdown",
      "source": [
        "**Training using GridSearch CV**"
      ],
      "metadata": {
        "id": "R3OBP9wyREjm"
      }
    },
    {
      "cell_type": "code",
      "source": [
        "\n",
        "# Create the KerasClassifier for scikit-learn compatibility\n",
        "model = KerasClassifier(build_fn=create_model, epochs=25, batch_size=32, verbose=1)"
      ],
      "metadata": {
        "colab": {
          "base_uri": "https://localhost:8080/"
        },
        "id": "DbQCFcD3oR6R",
        "outputId": "cf4f79f4-c900-4631-88ed-c896e077f994"
      },
      "execution_count": 261,
      "outputs": [
        {
          "output_type": "stream",
          "name": "stderr",
          "text": [
            "<ipython-input-261-72055140c05c>:2: DeprecationWarning: KerasClassifier is deprecated, use Sci-Keras (https://github.com/adriangb/scikeras) instead. See https://www.adriangb.com/scikeras/stable/migration.html for help migrating.\n",
            "  model = KerasClassifier(build_fn=create_model, epochs=25, batch_size=32, verbose=1)\n"
          ]
        }
      ]
    },
    {
      "cell_type": "code",
      "source": [
        "# Define the parameter grid for grid search\n",
        "param_grid = {\n",
        "    'activation': ['relu', 'tanh'],\n",
        "    'optimizer': ['adam', 'rmsprop'],\n",
        "}\n"
      ],
      "metadata": {
        "id": "P9_bFSSDoVet"
      },
      "execution_count": 262,
      "outputs": []
    },
    {
      "cell_type": "code",
      "source": [
        "# Create the GridSearchCV\n",
        "grid = GridSearchCV(estimator=model, param_grid=param_grid, cv=2, scoring='accuracy', verbose=1, n_jobs=-1)"
      ],
      "metadata": {
        "id": "cY6Hi6LkogKI"
      },
      "execution_count": 263,
      "outputs": []
    },
    {
      "cell_type": "code",
      "source": [
        "# Fit the grid search\n",
        "grid_result = grid.fit(X_train, y_train)"
      ],
      "metadata": {
        "colab": {
          "base_uri": "https://localhost:8080/"
        },
        "id": "YugbJ1Oaolm-",
        "outputId": "129cc5ea-1e1b-4ace-856d-713640fe6444"
      },
      "execution_count": 264,
      "outputs": [
        {
          "output_type": "stream",
          "name": "stdout",
          "text": [
            "Fitting 2 folds for each of 4 candidates, totalling 8 fits\n",
            "Epoch 1/25\n",
            "176/176 [==============================] - 2s 4ms/step - loss: 3.8573 - accuracy: 0.6601\n",
            "Epoch 2/25\n",
            "176/176 [==============================] - 1s 5ms/step - loss: 0.6800 - accuracy: 0.7083\n",
            "Epoch 3/25\n",
            "176/176 [==============================] - 1s 5ms/step - loss: 0.5586 - accuracy: 0.7477\n",
            "Epoch 4/25\n",
            "176/176 [==============================] - 1s 5ms/step - loss: 0.5929 - accuracy: 0.7509\n",
            "Epoch 5/25\n",
            "176/176 [==============================] - 1s 5ms/step - loss: 0.6413 - accuracy: 0.7532\n",
            "Epoch 6/25\n",
            "176/176 [==============================] - 1s 5ms/step - loss: 0.5233 - accuracy: 0.7639\n",
            "Epoch 7/25\n",
            "176/176 [==============================] - 1s 5ms/step - loss: 0.5610 - accuracy: 0.7652\n",
            "Epoch 8/25\n",
            "176/176 [==============================] - 1s 5ms/step - loss: 0.6364 - accuracy: 0.7595\n",
            "Epoch 9/25\n",
            "176/176 [==============================] - 1s 6ms/step - loss: 0.5131 - accuracy: 0.7680\n",
            "Epoch 10/25\n",
            "176/176 [==============================] - 1s 3ms/step - loss: 0.5480 - accuracy: 0.7595\n",
            "Epoch 11/25\n",
            "176/176 [==============================] - 1s 4ms/step - loss: 0.5282 - accuracy: 0.7668\n",
            "Epoch 12/25\n",
            "176/176 [==============================] - 1s 4ms/step - loss: 0.5348 - accuracy: 0.7673\n",
            "Epoch 13/25\n",
            "176/176 [==============================] - 1s 4ms/step - loss: 0.4771 - accuracy: 0.7838\n",
            "Epoch 14/25\n",
            "176/176 [==============================] - 1s 4ms/step - loss: 0.5382 - accuracy: 0.7653\n",
            "Epoch 15/25\n",
            "176/176 [==============================] - 1s 3ms/step - loss: 0.5639 - accuracy: 0.7618\n",
            "Epoch 16/25\n",
            "176/176 [==============================] - 1s 4ms/step - loss: 0.5098 - accuracy: 0.7726\n",
            "Epoch 17/25\n",
            "176/176 [==============================] - 1s 5ms/step - loss: 0.5854 - accuracy: 0.7634\n",
            "Epoch 18/25\n",
            "176/176 [==============================] - 1s 6ms/step - loss: 0.5049 - accuracy: 0.7705\n",
            "Epoch 19/25\n",
            "176/176 [==============================] - 1s 4ms/step - loss: 0.5058 - accuracy: 0.7780\n",
            "Epoch 20/25\n",
            "176/176 [==============================] - 1s 4ms/step - loss: 0.5306 - accuracy: 0.7701\n",
            "Epoch 21/25\n",
            "176/176 [==============================] - 1s 4ms/step - loss: 0.4843 - accuracy: 0.7758\n",
            "Epoch 22/25\n",
            "176/176 [==============================] - 1s 3ms/step - loss: 0.4674 - accuracy: 0.7876\n",
            "Epoch 23/25\n",
            "176/176 [==============================] - 1s 4ms/step - loss: 0.5365 - accuracy: 0.7694\n",
            "Epoch 24/25\n",
            "176/176 [==============================] - 1s 8ms/step - loss: 0.5031 - accuracy: 0.7783\n",
            "Epoch 25/25\n",
            "176/176 [==============================] - 1s 8ms/step - loss: 0.4776 - accuracy: 0.7835\n"
          ]
        }
      ]
    },
    {
      "cell_type": "code",
      "source": [
        "# Access the best parameters\n",
        "best_params = grid_result.best_params_\n",
        "print(\"Best parameters found: \", best_params)"
      ],
      "metadata": {
        "colab": {
          "base_uri": "https://localhost:8080/"
        },
        "id": "T-DiEeK9q2Lr",
        "outputId": "371b3b9a-297b-4958-c38b-bb2bab6e1289"
      },
      "execution_count": 265,
      "outputs": [
        {
          "output_type": "stream",
          "name": "stdout",
          "text": [
            "Best parameters found:  {'activation': 'relu', 'optimizer': 'adam'}\n"
          ]
        }
      ]
    },
    {
      "cell_type": "code",
      "source": [
        "# Evaluate the model on test data using the best parameters\n",
        "best_model = create_model(**best_params)\n",
        "best_model.fit(X_train, y_train, epochs=25, batch_size=32, verbose=1)"
      ],
      "metadata": {
        "colab": {
          "base_uri": "https://localhost:8080/"
        },
        "id": "_V8dVvOlrAmm",
        "outputId": "5fe88b07-061c-4e9f-df4f-7ef0c4c89b9b"
      },
      "execution_count": 266,
      "outputs": [
        {
          "output_type": "stream",
          "name": "stdout",
          "text": [
            "Epoch 1/25\n",
            "176/176 [==============================] - 2s 3ms/step - loss: 3.1619 - accuracy: 0.7116\n",
            "Epoch 2/25\n",
            "176/176 [==============================] - 1s 3ms/step - loss: 0.5314 - accuracy: 0.7463\n",
            "Epoch 3/25\n",
            "176/176 [==============================] - 1s 3ms/step - loss: 0.5170 - accuracy: 0.7687\n",
            "Epoch 4/25\n",
            "176/176 [==============================] - 1s 3ms/step - loss: 0.5186 - accuracy: 0.7579\n",
            "Epoch 5/25\n",
            "176/176 [==============================] - 1s 3ms/step - loss: 0.5229 - accuracy: 0.7611\n",
            "Epoch 6/25\n",
            "176/176 [==============================] - 1s 3ms/step - loss: 0.5128 - accuracy: 0.7714\n",
            "Epoch 7/25\n",
            "176/176 [==============================] - 1s 4ms/step - loss: 0.5188 - accuracy: 0.7643\n",
            "Epoch 8/25\n",
            "176/176 [==============================] - 1s 3ms/step - loss: 0.4855 - accuracy: 0.7833\n",
            "Epoch 9/25\n",
            "176/176 [==============================] - 1s 3ms/step - loss: 0.5466 - accuracy: 0.7669\n",
            "Epoch 10/25\n",
            "176/176 [==============================] - 1s 3ms/step - loss: 0.4916 - accuracy: 0.7820\n",
            "Epoch 11/25\n",
            "176/176 [==============================] - 1s 3ms/step - loss: 0.4724 - accuracy: 0.7865\n",
            "Epoch 12/25\n",
            "176/176 [==============================] - 1s 4ms/step - loss: 0.4905 - accuracy: 0.7801\n",
            "Epoch 13/25\n",
            "176/176 [==============================] - 1s 4ms/step - loss: 0.4663 - accuracy: 0.7856\n",
            "Epoch 14/25\n",
            "176/176 [==============================] - 1s 4ms/step - loss: 0.4781 - accuracy: 0.7835\n",
            "Epoch 15/25\n",
            "176/176 [==============================] - 1s 5ms/step - loss: 0.4844 - accuracy: 0.7806\n",
            "Epoch 16/25\n",
            "176/176 [==============================] - 1s 5ms/step - loss: 0.4784 - accuracy: 0.7833\n",
            "Epoch 17/25\n",
            "176/176 [==============================] - 1s 5ms/step - loss: 0.5026 - accuracy: 0.7742\n",
            "Epoch 18/25\n",
            "176/176 [==============================] - 1s 5ms/step - loss: 0.4617 - accuracy: 0.7856\n",
            "Epoch 19/25\n",
            "176/176 [==============================] - 1s 5ms/step - loss: 0.4627 - accuracy: 0.7881\n",
            "Epoch 20/25\n",
            "176/176 [==============================] - 1s 5ms/step - loss: 0.4631 - accuracy: 0.7838\n",
            "Epoch 21/25\n",
            "176/176 [==============================] - 1s 5ms/step - loss: 0.4530 - accuracy: 0.7895\n",
            "Epoch 22/25\n",
            "176/176 [==============================] - 1s 5ms/step - loss: 0.4512 - accuracy: 0.7879\n",
            "Epoch 23/25\n",
            "176/176 [==============================] - 1s 4ms/step - loss: 0.4579 - accuracy: 0.7879\n",
            "Epoch 24/25\n",
            "176/176 [==============================] - 1s 3ms/step - loss: 0.4911 - accuracy: 0.7746\n",
            "Epoch 25/25\n",
            "176/176 [==============================] - 1s 4ms/step - loss: 0.4574 - accuracy: 0.7842\n"
          ]
        },
        {
          "output_type": "execute_result",
          "data": {
            "text/plain": [
              "<keras.callbacks.History at 0x7880784a43d0>"
            ]
          },
          "metadata": {},
          "execution_count": 266
        }
      ]
    },
    {
      "cell_type": "code",
      "source": [
        "y_pred_prob = best_model.predict(X_test)\n",
        "y_pred = (y_pred_prob > 0.5).astype(int)"
      ],
      "metadata": {
        "colab": {
          "base_uri": "https://localhost:8080/"
        },
        "id": "GYnlpCL-q-Ae",
        "outputId": "257721d3-f35b-449c-aa8d-85097a9fdb85"
      },
      "execution_count": 267,
      "outputs": [
        {
          "output_type": "stream",
          "name": "stdout",
          "text": [
            "44/44 [==============================] - 0s 2ms/step\n"
          ]
        }
      ]
    },
    {
      "cell_type": "markdown",
      "metadata": {
        "id": "rypwHyhxbXfa"
      },
      "source": [
        "**Calculating the Accuracy Score and AUC Score**"
      ]
    },
    {
      "cell_type": "code",
      "source": [
        "\n",
        "accuracy = accuracy_score(y_test, y_pred)\n",
        "auc_score = roc_auc_score(y_test, y_pred_prob)\n",
        "\n",
        "print(f\"Optimized Accuracy: {accuracy}\")\n",
        "print(f\"Optimized AUC Score: {auc_score}\")\n"
      ],
      "metadata": {
        "colab": {
          "base_uri": "https://localhost:8080/"
        },
        "id": "kveIDJdzR0Uj",
        "outputId": "428195df-b1cd-4e23-90ad-16671302fb7d"
      },
      "execution_count": 268,
      "outputs": [
        {
          "output_type": "stream",
          "name": "stdout",
          "text": [
            "Optimized Accuracy: 0.7818052594171997\n",
            "Optimized AUC Score: 0.7889615936139482\n"
          ]
        }
      ]
    },
    {
      "cell_type": "markdown",
      "source": [
        "**Classification Report**"
      ],
      "metadata": {
        "id": "VYcLaVFBV9v8"
      }
    },
    {
      "cell_type": "code",
      "execution_count": 269,
      "metadata": {
        "id": "qaaR0YQpZDbd",
        "colab": {
          "base_uri": "https://localhost:8080/"
        },
        "outputId": "f164f62f-b523-47db-891d-eecc9b523e9e"
      },
      "outputs": [
        {
          "output_type": "stream",
          "name": "stdout",
          "text": [
            "44/44 [==============================] - 0s 2ms/step\n",
            "Classification Report:\n",
            "              precision    recall  f1-score   support\n",
            "\n",
            "           0       0.82      0.90      0.86      1033\n",
            "           1       0.62      0.45      0.53       374\n",
            "\n",
            "    accuracy                           0.78      1407\n",
            "   macro avg       0.72      0.68      0.69      1407\n",
            "weighted avg       0.77      0.78      0.77      1407\n",
            "\n"
          ]
        }
      ],
      "source": [
        "from sklearn.metrics import classification_report\n",
        "\n",
        "\n",
        "y_pred_proba = grid_result.predict_proba(X_test)[:, 1]\n",
        "\n",
        "# Convert probabilities to binary predictions (0 or 1) based on a threshold\n",
        "y_pred_binary = (y_pred_proba > 0.5).astype(int)\n",
        "\n",
        "# Generate a classification report\n",
        "report = classification_report(y_test, y_pred_binary)\n",
        "\n",
        "# Print the classification report\n",
        "print(\"Classification Report:\")\n",
        "print(report)\n"
      ]
    },
    {
      "cell_type": "markdown",
      "source": [
        "Saving the model"
      ],
      "metadata": {
        "id": "NH5keZeogR8g"
      }
    },
    {
      "cell_type": "code",
      "source": [
        "# Saving the best model\n",
        "best_model.save('prediction_model.h5')\n"
      ],
      "metadata": {
        "id": "bLv4IN5dgT9a"
      },
      "execution_count": 194,
      "outputs": []
    },
    {
      "cell_type": "code",
      "source": [
        "# Save the scaler to a file using pickle\n",
        "with open('standard_scaler.pkl', 'wb') as file:\n",
        "    pickle.dump(scaler, file)"
      ],
      "metadata": {
        "id": "dAL4Fy0xgab_"
      },
      "execution_count": 195,
      "outputs": []
    },
    {
      "cell_type": "code",
      "source": [],
      "metadata": {
        "id": "vfpq4-o42BjB"
      },
      "execution_count": 195,
      "outputs": []
    }
  ],
  "metadata": {
    "colab": {
      "provenance": [],
      "gpuType": "T4"
    },
    "kernelspec": {
      "display_name": "Python 3",
      "name": "python3"
    },
    "language_info": {
      "name": "python"
    },
    "accelerator": "GPU"
  },
  "nbformat": 4,
  "nbformat_minor": 0
}